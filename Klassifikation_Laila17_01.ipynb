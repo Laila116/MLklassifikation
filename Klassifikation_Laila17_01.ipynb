{
  "nbformat": 4,
  "nbformat_minor": 0,
  "metadata": {
    "colab": {
      "provenance": [],
      "toc_visible": true,
      "authorship_tag": "ABX9TyP74bg8CnVVI3CzCwiZ7R9i",
      "include_colab_link": true
    },
    "kernelspec": {
      "name": "python3",
      "display_name": "Python 3"
    },
    "language_info": {
      "name": "python"
    }
  },
  "cells": [
    {
      "cell_type": "markdown",
      "metadata": {
        "id": "view-in-github",
        "colab_type": "text"
      },
      "source": [
        "<a href=\"https://colab.research.google.com/github/Laila116/MLklassifikation/blob/main/Klassifikation_Laila17_01.ipynb\" target=\"_parent\"><img src=\"https://colab.research.google.com/assets/colab-badge.svg\" alt=\"Open In Colab\"/></a>"
      ]
    },
    {
      "cell_type": "markdown",
      "source": [
        "# **Klassifikation Modell in Machine Learning**\n",
        "## Laila Almejbel"
      ],
      "metadata": {
        "id": "8tRGbNstB3tR"
      }
    },
    {
      "cell_type": "markdown",
      "source": [
        "# Load the data Gelenkdaten_Nutzerstudie\n"
      ],
      "metadata": {
        "id": "r06HpGwJV7hG"
      }
    },
    {
      "cell_type": "code",
      "source": [
        "from google.colab import files\n",
        "\n",
        "uploaded = files.upload()"
      ],
      "metadata": {
        "colab": {
          "base_uri": "https://localhost:8080/",
          "height": 74
        },
        "id": "chSSsPg5XKcR",
        "outputId": "80528809-938a-42f4-ddc6-4a48054c5a4c"
      },
      "execution_count": 4,
      "outputs": [
        {
          "output_type": "display_data",
          "data": {
            "text/plain": [
              "<IPython.core.display.HTML object>"
            ],
            "text/html": [
              "\n",
              "     <input type=\"file\" id=\"files-1b4e7c0a-94b5-414b-b425-e25b8aff49b3\" name=\"files[]\" multiple disabled\n",
              "        style=\"border:none\" />\n",
              "     <output id=\"result-1b4e7c0a-94b5-414b-b425-e25b8aff49b3\">\n",
              "      Upload widget is only available when the cell has been executed in the\n",
              "      current browser session. Please rerun this cell to enable.\n",
              "      </output>\n",
              "      <script>// Copyright 2017 Google LLC\n",
              "//\n",
              "// Licensed under the Apache License, Version 2.0 (the \"License\");\n",
              "// you may not use this file except in compliance with the License.\n",
              "// You may obtain a copy of the License at\n",
              "//\n",
              "//      http://www.apache.org/licenses/LICENSE-2.0\n",
              "//\n",
              "// Unless required by applicable law or agreed to in writing, software\n",
              "// distributed under the License is distributed on an \"AS IS\" BASIS,\n",
              "// WITHOUT WARRANTIES OR CONDITIONS OF ANY KIND, either express or implied.\n",
              "// See the License for the specific language governing permissions and\n",
              "// limitations under the License.\n",
              "\n",
              "/**\n",
              " * @fileoverview Helpers for google.colab Python module.\n",
              " */\n",
              "(function(scope) {\n",
              "function span(text, styleAttributes = {}) {\n",
              "  const element = document.createElement('span');\n",
              "  element.textContent = text;\n",
              "  for (const key of Object.keys(styleAttributes)) {\n",
              "    element.style[key] = styleAttributes[key];\n",
              "  }\n",
              "  return element;\n",
              "}\n",
              "\n",
              "// Max number of bytes which will be uploaded at a time.\n",
              "const MAX_PAYLOAD_SIZE = 100 * 1024;\n",
              "\n",
              "function _uploadFiles(inputId, outputId) {\n",
              "  const steps = uploadFilesStep(inputId, outputId);\n",
              "  const outputElement = document.getElementById(outputId);\n",
              "  // Cache steps on the outputElement to make it available for the next call\n",
              "  // to uploadFilesContinue from Python.\n",
              "  outputElement.steps = steps;\n",
              "\n",
              "  return _uploadFilesContinue(outputId);\n",
              "}\n",
              "\n",
              "// This is roughly an async generator (not supported in the browser yet),\n",
              "// where there are multiple asynchronous steps and the Python side is going\n",
              "// to poll for completion of each step.\n",
              "// This uses a Promise to block the python side on completion of each step,\n",
              "// then passes the result of the previous step as the input to the next step.\n",
              "function _uploadFilesContinue(outputId) {\n",
              "  const outputElement = document.getElementById(outputId);\n",
              "  const steps = outputElement.steps;\n",
              "\n",
              "  const next = steps.next(outputElement.lastPromiseValue);\n",
              "  return Promise.resolve(next.value.promise).then((value) => {\n",
              "    // Cache the last promise value to make it available to the next\n",
              "    // step of the generator.\n",
              "    outputElement.lastPromiseValue = value;\n",
              "    return next.value.response;\n",
              "  });\n",
              "}\n",
              "\n",
              "/**\n",
              " * Generator function which is called between each async step of the upload\n",
              " * process.\n",
              " * @param {string} inputId Element ID of the input file picker element.\n",
              " * @param {string} outputId Element ID of the output display.\n",
              " * @return {!Iterable<!Object>} Iterable of next steps.\n",
              " */\n",
              "function* uploadFilesStep(inputId, outputId) {\n",
              "  const inputElement = document.getElementById(inputId);\n",
              "  inputElement.disabled = false;\n",
              "\n",
              "  const outputElement = document.getElementById(outputId);\n",
              "  outputElement.innerHTML = '';\n",
              "\n",
              "  const pickedPromise = new Promise((resolve) => {\n",
              "    inputElement.addEventListener('change', (e) => {\n",
              "      resolve(e.target.files);\n",
              "    });\n",
              "  });\n",
              "\n",
              "  const cancel = document.createElement('button');\n",
              "  inputElement.parentElement.appendChild(cancel);\n",
              "  cancel.textContent = 'Cancel upload';\n",
              "  const cancelPromise = new Promise((resolve) => {\n",
              "    cancel.onclick = () => {\n",
              "      resolve(null);\n",
              "    };\n",
              "  });\n",
              "\n",
              "  // Wait for the user to pick the files.\n",
              "  const files = yield {\n",
              "    promise: Promise.race([pickedPromise, cancelPromise]),\n",
              "    response: {\n",
              "      action: 'starting',\n",
              "    }\n",
              "  };\n",
              "\n",
              "  cancel.remove();\n",
              "\n",
              "  // Disable the input element since further picks are not allowed.\n",
              "  inputElement.disabled = true;\n",
              "\n",
              "  if (!files) {\n",
              "    return {\n",
              "      response: {\n",
              "        action: 'complete',\n",
              "      }\n",
              "    };\n",
              "  }\n",
              "\n",
              "  for (const file of files) {\n",
              "    const li = document.createElement('li');\n",
              "    li.append(span(file.name, {fontWeight: 'bold'}));\n",
              "    li.append(span(\n",
              "        `(${file.type || 'n/a'}) - ${file.size} bytes, ` +\n",
              "        `last modified: ${\n",
              "            file.lastModifiedDate ? file.lastModifiedDate.toLocaleDateString() :\n",
              "                                    'n/a'} - `));\n",
              "    const percent = span('0% done');\n",
              "    li.appendChild(percent);\n",
              "\n",
              "    outputElement.appendChild(li);\n",
              "\n",
              "    const fileDataPromise = new Promise((resolve) => {\n",
              "      const reader = new FileReader();\n",
              "      reader.onload = (e) => {\n",
              "        resolve(e.target.result);\n",
              "      };\n",
              "      reader.readAsArrayBuffer(file);\n",
              "    });\n",
              "    // Wait for the data to be ready.\n",
              "    let fileData = yield {\n",
              "      promise: fileDataPromise,\n",
              "      response: {\n",
              "        action: 'continue',\n",
              "      }\n",
              "    };\n",
              "\n",
              "    // Use a chunked sending to avoid message size limits. See b/62115660.\n",
              "    let position = 0;\n",
              "    do {\n",
              "      const length = Math.min(fileData.byteLength - position, MAX_PAYLOAD_SIZE);\n",
              "      const chunk = new Uint8Array(fileData, position, length);\n",
              "      position += length;\n",
              "\n",
              "      const base64 = btoa(String.fromCharCode.apply(null, chunk));\n",
              "      yield {\n",
              "        response: {\n",
              "          action: 'append',\n",
              "          file: file.name,\n",
              "          data: base64,\n",
              "        },\n",
              "      };\n",
              "\n",
              "      let percentDone = fileData.byteLength === 0 ?\n",
              "          100 :\n",
              "          Math.round((position / fileData.byteLength) * 100);\n",
              "      percent.textContent = `${percentDone}% done`;\n",
              "\n",
              "    } while (position < fileData.byteLength);\n",
              "  }\n",
              "\n",
              "  // All done.\n",
              "  yield {\n",
              "    response: {\n",
              "      action: 'complete',\n",
              "    }\n",
              "  };\n",
              "}\n",
              "\n",
              "scope.google = scope.google || {};\n",
              "scope.google.colab = scope.google.colab || {};\n",
              "scope.google.colab._files = {\n",
              "  _uploadFiles,\n",
              "  _uploadFilesContinue,\n",
              "};\n",
              "})(self);\n",
              "</script> "
            ]
          },
          "metadata": {}
        },
        {
          "output_type": "stream",
          "name": "stdout",
          "text": [
            "Saving Gelenkdaten_Nutzerstudie(1).csv to Gelenkdaten_Nutzerstudie(1).csv\n"
          ]
        }
      ]
    },
    {
      "cell_type": "code",
      "source": [
        "!ls\n"
      ],
      "metadata": {
        "id": "N10aIkpvWn_7",
        "colab": {
          "base_uri": "https://localhost:8080/"
        },
        "outputId": "eb8ec365-c5f0-41d8-ae14-0a9cedb82d3a"
      },
      "execution_count": 5,
      "outputs": [
        {
          "output_type": "stream",
          "name": "stdout",
          "text": [
            "'Gelenkdaten_Nutzerstudie(1).csv'   sample_data\n"
          ]
        }
      ]
    },
    {
      "cell_type": "markdown",
      "source": [
        "## import libraries"
      ],
      "metadata": {
        "id": "JxxyCqfdXJkc"
      }
    },
    {
      "cell_type": "code",
      "source": [
        "\n",
        "import pandas as pd\n",
        "from sklearn.model_selection import train_test_split\n",
        "from sklearn.preprocessing import StandardScaler\n",
        "from sklearn.linear_model import LogisticRegression\n",
        "from sklearn.metrics import accuracy_score\n",
        "from sklearn.metrics import classification_report, confusion_matrix\n",
        "import seaborn as sns\n",
        "import matplotlib.pyplot as plt"
      ],
      "metadata": {
        "id": "GL9NAuoB8r2M"
      },
      "execution_count": 6,
      "outputs": []
    },
    {
      "cell_type": "markdown",
      "source": [
        "## clean data"
      ],
      "metadata": {
        "id": "G1d3eiYyXNmc"
      }
    },
    {
      "cell_type": "code",
      "source": [
        "\n",
        "data = pd.read_csv(\"Gelenkdaten_Nutzerstudie(1).csv\", delimiter=';', header=None)\n",
        "print(data.head())\n"
      ],
      "metadata": {
        "colab": {
          "base_uri": "https://localhost:8080/"
        },
        "id": "A4A32oarXS6m",
        "outputId": "df85eabe-4418-47e9-ac3e-a900dc3c23dc"
      },
      "execution_count": 7,
      "outputs": [
        {
          "output_type": "stream",
          "name": "stdout",
          "text": [
            "              0   1                 2         3         4         5   \\\n",
            "0  Pose Number:    5  Joint Distance:   3,121613  3,052668  3,021788   \n",
            "1  Pose Number:    2  Joint Distance:   3,208593  3,010979  2,855522   \n",
            "2  Pose Number:    1  Joint Distance:   3,366836  3,334915  3,325469   \n",
            "3  Pose Number:    3  Joint Distance:   3,338407  3,290213  3,178516   \n",
            "4  Pose Number:    0  Joint Distance:   3,272326  3,263448  3,266838   \n",
            "\n",
            "         6         7         8         9   ...        20        21        22  \\\n",
            "0  3,053974  3,059113  3,051337  3,219006  ...  2,623083  3,124164  3,300521   \n",
            "1  2,621658  2,660382  2,724627  2,928036  ...   2,60051  3,209061  3,651953   \n",
            "2  3,413587  3,405159  3,435247  3,418649  ...   3,24577  3,369378  3,426765   \n",
            "3  3,096993  3,115719  3,098387  3,007955  ...  2,722301  3,340754   3,13961   \n",
            "4  3,346335  3,332698   3,30121   3,29211  ...  3,148293  3,275002  3,379051   \n",
            "\n",
            "         23        24        25        26        27        28        29  \n",
            "0  3,627612  3,520407   3,12214  2,963496  3,000626  2,915826  3,056647  \n",
            "1  4,047569  4,194841  3,210957  3,657653  4,085339  4,187163  2,539768  \n",
            "2  3,602175  3,544579  3,367118  3,402358  3,577983   3,49095  3,436727  \n",
            "3  3,457424  3,386338  3,338747  3,112972  3,448987  3,352387  3,057086  \n",
            "4  3,544199  3,428159  3,272547  3,351687   3,50553  3,397429  3,366072  \n",
            "\n",
            "[5 rows x 30 columns]\n"
          ]
        }
      ]
    },
    {
      "cell_type": "code",
      "source": [
        "\n",
        "data_cleaned = data.drop(data.columns[[0, 2]], axis=1)\n",
        "\n",
        "\n",
        "print(\"DataFrame nach dem Entfernen der Spalten:\")\n",
        "print(data_cleaned.head())"
      ],
      "metadata": {
        "colab": {
          "base_uri": "https://localhost:8080/"
        },
        "id": "lgPCtFyWsH4B",
        "outputId": "0b41155e-9e82-40da-cc06-d2f0865f2df9"
      },
      "execution_count": 8,
      "outputs": [
        {
          "output_type": "stream",
          "name": "stdout",
          "text": [
            "DataFrame nach dem Entfernen der Spalten:\n",
            "   1         3         4         5         6         7         8         9   \\\n",
            "0   5  3,121613  3,052668  3,021788  3,053974  3,059113  3,051337  3,219006   \n",
            "1   2  3,208593  3,010979  2,855522  2,621658  2,660382  2,724627  2,928036   \n",
            "2   1  3,366836  3,334915  3,325469  3,413587  3,405159  3,435247  3,418649   \n",
            "3   3  3,338407  3,290213  3,178516  3,096993  3,115719  3,098387  3,007955   \n",
            "4   0  3,272326  3,263448  3,266838  3,346335  3,332698   3,30121   3,29211   \n",
            "\n",
            "         10        11  ...        20        21        22        23        24  \\\n",
            "0  3,372958  3,472464  ...  2,623083  3,124164  3,300521  3,627612  3,520407   \n",
            "1  2,807246  2,712043  ...   2,60051  3,209061  3,651953  4,047569  4,194841   \n",
            "2  3,375723  3,412777  ...   3,24577  3,369378  3,426765  3,602175  3,544579   \n",
            "3  2,897638  2,838784  ...  2,722301  3,340754   3,13961  3,457424  3,386338   \n",
            "4  3,253292  3,168549  ...  3,148293  3,275002  3,379051  3,544199  3,428159   \n",
            "\n",
            "         25        26        27        28        29  \n",
            "0   3,12214  2,963496  3,000626  2,915826  3,056647  \n",
            "1  3,210957  3,657653  4,085339  4,187163  2,539768  \n",
            "2  3,367118  3,402358  3,577983   3,49095  3,436727  \n",
            "3  3,338747  3,112972  3,448987  3,352387  3,057086  \n",
            "4  3,272547  3,351687   3,50553  3,397429  3,366072  \n",
            "\n",
            "[5 rows x 28 columns]\n"
          ]
        }
      ]
    },
    {
      "cell_type": "code",
      "source": [
        "\n",
        "data_cleaned.columns = ['Pose Number'] + [f'Joint_{index}' for index in range(1, data_cleaned.shape[1])]\n",
        "\n",
        "print(\"DataFrame nach der Benennung der Spalten:\")\n",
        "print(data_cleaned)\n"
      ],
      "metadata": {
        "colab": {
          "base_uri": "https://localhost:8080/"
        },
        "id": "8TTJP8urqjBr",
        "outputId": "c35abe48-99f8-419e-d14e-3be0a496f324"
      },
      "execution_count": 9,
      "outputs": [
        {
          "output_type": "stream",
          "name": "stdout",
          "text": [
            "DataFrame nach der Benennung der Spalten:\n",
            "     Pose Number   Joint_1   Joint_2   Joint_3   Joint_4   Joint_5   Joint_6  \\\n",
            "0              5  3,121613  3,052668  3,021788  3,053974  3,059113  3,051337   \n",
            "1              2  3,208593  3,010979  2,855522  2,621658  2,660382  2,724627   \n",
            "2              1  3,366836  3,334915  3,325469  3,413587  3,405159  3,435247   \n",
            "3              3  3,338407  3,290213  3,178516  3,096993  3,115719  3,098387   \n",
            "4              0  3,272326  3,263448  3,266838  3,346335  3,332698   3,30121   \n",
            "..           ...       ...       ...       ...       ...       ...       ...   \n",
            "379            4  3,685346  3,655207  3,632084  3,661753  3,664505  3,685483   \n",
            "380            0  3,666228  3,645779  3,641906  3,689034  3,681765  3,673216   \n",
            "381            2  3,155308  2,960068  2,803586  2,569013  2,612643    2,6947   \n",
            "382            0  1,842004  1,835946  1,833049   1,82018  1,826241  1,817036   \n",
            "383            5  1,847312  1,845371   1,85028  1,833839  1,839225  1,831829   \n",
            "\n",
            "      Joint_7   Joint_8   Joint_9  ...  Joint_18  Joint_19  Joint_20  \\\n",
            "0    3,219006  3,372958  3,472464  ...  2,623083  3,124164  3,300521   \n",
            "1    2,928036  2,807246  2,712043  ...   2,60051  3,209061  3,651953   \n",
            "2    3,418649  3,375723  3,412777  ...   3,24577  3,369378  3,426765   \n",
            "3    3,007955  2,897638  2,838784  ...  2,722301  3,340754   3,13961   \n",
            "4     3,29211  3,253292  3,168549  ...  3,148293  3,275002  3,379051   \n",
            "..        ...       ...       ...  ...       ...       ...       ...   \n",
            "379  3,562645  3,314448  3,213374  ...  3,566852  3,688615  3,764379   \n",
            "380  3,672744  3,583277  3,656565  ...  3,688893  3,668387  3,712268   \n",
            "381  2,883622  2,656093   2,65287  ...  2,743049  3,162467  3,602318   \n",
            "382   1,77287  1,725273  1,654533  ...  1,571997  1,842548  1,763851   \n",
            "383  1,785406  1,624026  1,556932  ...  1,571079  1,848543   1,76281   \n",
            "\n",
            "     Joint_21  Joint_22  Joint_23  Joint_24  Joint_25  Joint_26  Joint_27  \n",
            "0    3,627612  3,520407   3,12214  2,963496  3,000626  2,915826  3,056647  \n",
            "1    4,047569  4,194841  3,210957  3,657653  4,085339  4,187163  2,539768  \n",
            "2    3,602175  3,544579  3,367118  3,402358  3,577983   3,49095  3,436727  \n",
            "3    3,457424  3,386338  3,338747  3,112972  3,448987  3,352387  3,057086  \n",
            "4    3,544199  3,428159  3,272547  3,351687   3,50553  3,397429  3,366072  \n",
            "..        ...       ...       ...       ...       ...       ...       ...  \n",
            "379  3,924363  3,838342  3,684726  3,766805  3,922182  3,823399  3,662459  \n",
            "380  3,875084  3,743244  3,666663  3,766783  3,933043  3,804613  3,695968  \n",
            "381  3,989317  4,188567  3,151574  3,586396  3,989055  4,165225  2,484192  \n",
            "382  1,898001  1,848179  1,843635  1,815652  1,999696  1,977586  1,809199  \n",
            "383  1,927987  1,892844  1,848532  1,789571   1,97222  1,944802  1,821299  \n",
            "\n",
            "[384 rows x 28 columns]\n"
          ]
        }
      ]
    },
    {
      "cell_type": "code",
      "source": [
        "\n",
        "for column in data_cleaned.columns[1:]:\n",
        "    data_cleaned[column] = data_cleaned[column].str.replace(',', '.').astype(float)\n",
        "\n",
        "print(\"DataFrame nach der Bereinigung:\")\n",
        "print(data_cleaned.head())"
      ],
      "metadata": {
        "colab": {
          "base_uri": "https://localhost:8080/"
        },
        "id": "N5p8N9qqtH6J",
        "outputId": "9091de8d-8b49-41e9-e8e5-53b5ab4983b7"
      },
      "execution_count": 11,
      "outputs": [
        {
          "output_type": "stream",
          "name": "stdout",
          "text": [
            "DataFrame nach der Bereinigung:\n",
            "   Pose Number   Joint_1   Joint_2   Joint_3   Joint_4   Joint_5   Joint_6  \\\n",
            "0            5  3.121613  3.052668  3.021788  3.053974  3.059113  3.051337   \n",
            "1            2  3.208593  3.010979  2.855522  2.621658  2.660382  2.724627   \n",
            "2            1  3.366836  3.334915  3.325469  3.413587  3.405159  3.435247   \n",
            "3            3  3.338407  3.290213  3.178516  3.096993  3.115719  3.098387   \n",
            "4            0  3.272326  3.263448  3.266838  3.346335  3.332698  3.301210   \n",
            "\n",
            "    Joint_7   Joint_8   Joint_9  ...  Joint_18  Joint_19  Joint_20  Joint_21  \\\n",
            "0  3.219006  3.372958  3.472464  ...  2.623083  3.124164  3.300521  3.627612   \n",
            "1  2.928036  2.807246  2.712043  ...  2.600510  3.209061  3.651953  4.047569   \n",
            "2  3.418649  3.375723  3.412777  ...  3.245770  3.369378  3.426765  3.602175   \n",
            "3  3.007955  2.897638  2.838784  ...  2.722301  3.340754  3.139610  3.457424   \n",
            "4  3.292110  3.253292  3.168549  ...  3.148293  3.275002  3.379051  3.544199   \n",
            "\n",
            "   Joint_22  Joint_23  Joint_24  Joint_25  Joint_26  Joint_27  \n",
            "0  3.520407  3.122140  2.963496  3.000626  2.915826  3.056647  \n",
            "1  4.194841  3.210957  3.657653  4.085339  4.187163  2.539768  \n",
            "2  3.544579  3.367118  3.402358  3.577983  3.490950  3.436727  \n",
            "3  3.386338  3.338747  3.112972  3.448987  3.352387  3.057086  \n",
            "4  3.428159  3.272547  3.351687  3.505530  3.397429  3.366072  \n",
            "\n",
            "[5 rows x 28 columns]\n"
          ]
        }
      ]
    },
    {
      "cell_type": "code",
      "source": [
        "print(data_cleaned.info())"
      ],
      "metadata": {
        "colab": {
          "base_uri": "https://localhost:8080/"
        },
        "id": "NWbaX5YN5eJN",
        "outputId": "8a7b11d0-fc23-43dd-9ec1-9b87a1fa6e4c"
      },
      "execution_count": 12,
      "outputs": [
        {
          "output_type": "stream",
          "name": "stdout",
          "text": [
            "<class 'pandas.core.frame.DataFrame'>\n",
            "RangeIndex: 384 entries, 0 to 383\n",
            "Data columns (total 28 columns):\n",
            " #   Column       Non-Null Count  Dtype  \n",
            "---  ------       --------------  -----  \n",
            " 0   Pose Number  384 non-null    int64  \n",
            " 1   Joint_1      384 non-null    float64\n",
            " 2   Joint_2      384 non-null    float64\n",
            " 3   Joint_3      384 non-null    float64\n",
            " 4   Joint_4      384 non-null    float64\n",
            " 5   Joint_5      384 non-null    float64\n",
            " 6   Joint_6      384 non-null    float64\n",
            " 7   Joint_7      384 non-null    float64\n",
            " 8   Joint_8      384 non-null    float64\n",
            " 9   Joint_9      384 non-null    float64\n",
            " 10  Joint_10     384 non-null    float64\n",
            " 11  Joint_11     384 non-null    float64\n",
            " 12  Joint_12     384 non-null    float64\n",
            " 13  Joint_13     384 non-null    float64\n",
            " 14  Joint_14     384 non-null    float64\n",
            " 15  Joint_15     384 non-null    float64\n",
            " 16  Joint_16     384 non-null    float64\n",
            " 17  Joint_17     384 non-null    float64\n",
            " 18  Joint_18     384 non-null    float64\n",
            " 19  Joint_19     384 non-null    float64\n",
            " 20  Joint_20     384 non-null    float64\n",
            " 21  Joint_21     384 non-null    float64\n",
            " 22  Joint_22     384 non-null    float64\n",
            " 23  Joint_23     384 non-null    float64\n",
            " 24  Joint_24     384 non-null    float64\n",
            " 25  Joint_25     384 non-null    float64\n",
            " 26  Joint_26     384 non-null    float64\n",
            " 27  Joint_27     384 non-null    float64\n",
            "dtypes: float64(27), int64(1)\n",
            "memory usage: 84.1 KB\n",
            "None\n"
          ]
        }
      ]
    },
    {
      "cell_type": "code",
      "source": [
        "\n",
        "print(data_cleaned.describe())"
      ],
      "metadata": {
        "colab": {
          "base_uri": "https://localhost:8080/"
        },
        "id": "Zzn2tB5v-lnD",
        "outputId": "98f0a12a-89ae-4b7b-b962-b3dda46034ed"
      },
      "execution_count": 13,
      "outputs": [
        {
          "output_type": "stream",
          "name": "stdout",
          "text": [
            "       Pose Number     Joint_1     Joint_2     Joint_3     Joint_4  \\\n",
            "count   384.000000  384.000000  384.000000  384.000000  384.000000   \n",
            "mean      2.481771    2.597145    2.534316    2.491837    2.477417   \n",
            "std       1.722128    0.470598    0.466086    0.464556    0.479813   \n",
            "min       0.000000    1.654243    1.638608    1.611676    1.514152   \n",
            "25%       1.000000    2.269126    2.216716    2.170691    2.156201   \n",
            "50%       2.500000    2.493250    2.436233    2.390336    2.400655   \n",
            "75%       4.000000    2.838639    2.774411    2.723834    2.702959   \n",
            "max       5.000000    3.887490    3.803397    3.723324    3.790563   \n",
            "\n",
            "          Joint_5     Joint_6     Joint_7     Joint_8     Joint_9  ...  \\\n",
            "count  384.000000  384.000000  384.000000  384.000000  384.000000  ...   \n",
            "mean     2.483916    2.506208    2.546667    2.476932    2.474745  ...   \n",
            "std      0.475881    0.472663    0.466177    0.465345    0.470896  ...   \n",
            "min      1.541424    1.555207    1.626008    1.420293    1.332526  ...   \n",
            "25%      2.164107    2.171907    2.217315    2.134970    2.132906  ...   \n",
            "50%      2.405427    2.411735    2.455055    2.372828    2.372371  ...   \n",
            "75%      2.710077    2.728104    2.785412    2.722282    2.748763  ...   \n",
            "max      3.774688    3.762337    3.833501    3.839256    3.880481  ...   \n",
            "\n",
            "         Joint_18    Joint_19    Joint_20    Joint_21    Joint_22    Joint_23  \\\n",
            "count  384.000000  384.000000  384.000000  384.000000  384.000000  384.000000   \n",
            "mean     2.356445    2.600073    2.678644    2.927642    2.905244    2.597305   \n",
            "std      0.485896    0.470304    0.491154    0.497837    0.518875    0.470526   \n",
            "min      1.227592    1.657995    1.704725    1.866841    1.787141    1.654616   \n",
            "25%      2.025770    2.271977    2.318577    2.561729    2.526272    2.269382   \n",
            "50%      2.244538    2.497218    2.592025    2.848597    2.802720    2.490622   \n",
            "75%      2.589683    2.841188    2.947013    3.210095    3.226453    2.838969   \n",
            "max      3.855820    3.889379    3.956513    4.326914    4.513385    3.887789   \n",
            "\n",
            "         Joint_24    Joint_25    Joint_26    Joint_27  \n",
            "count  384.000000  384.000000  384.000000  384.000000  \n",
            "mean     2.632248    2.857643    2.829634    2.466020  \n",
            "std      0.502957    0.518051    0.538422    0.488548  \n",
            "min      1.532780    1.708011    1.707804    1.451603  \n",
            "25%      2.259880    2.484911    2.450634    2.129760  \n",
            "50%      2.541371    2.749796    2.693239    2.383986  \n",
            "75%      2.916030    3.151410    3.170872    2.692755  \n",
            "max      3.951180    4.318459    4.483733    3.815216  \n",
            "\n",
            "[8 rows x 28 columns]\n"
          ]
        }
      ]
    },
    {
      "cell_type": "code",
      "source": [
        "import matplotlib.pyplot as plt\n",
        "\n",
        "columns = data_cleaned.columns[1:]\n",
        "\n",
        "plt.figure(figsize=(15, 8))\n",
        "plt.boxplot([data_cleaned[col] for col in columns], labels=columns, vert=False)\n",
        "plt.title(\"Boxplot für alle Features\")\n",
        "plt.xlabel(\"Werte\")\n",
        "plt.ylabel(\"Merkmale\")\n",
        "plt.show()\n",
        "\n"
      ],
      "metadata": {
        "colab": {
          "base_uri": "https://localhost:8080/",
          "height": 773
        },
        "id": "oMekkh_7wf1F",
        "outputId": "3c568831-e023-48f4-903b-496a06341197"
      },
      "execution_count": 14,
      "outputs": [
        {
          "output_type": "stream",
          "name": "stderr",
          "text": [
            "<ipython-input-14-c0f562447408>:6: MatplotlibDeprecationWarning: The 'labels' parameter of boxplot() has been renamed 'tick_labels' since Matplotlib 3.9; support for the old name will be dropped in 3.11.\n",
            "  plt.boxplot([data_cleaned[col] for col in columns], labels=columns, vert=False)\n"
          ]
        },
        {
          "output_type": "display_data",
          "data": {
            "text/plain": [
              "<Figure size 1500x800 with 1 Axes>"
            ],
            "image/png": "[encoded data removed]"
          },
          "metadata": {}
        }
      ]
    },
    {
      "cell_type": "markdown",
      "source": [
        "## split data"
      ],
      "metadata": {
        "id": "9fY8sb1fXZJv"
      }
    },
    {
      "cell_type": "code",
      "source": [
        "# Zielvariable (y)\n",
        "y = data_cleaned['Pose Number']\n",
        "\n",
        "# Merkmale (X)\n",
        "X = data_cleaned.drop(columns=['Pose Number'])\n",
        "\n",
        "\n",
        "print(X.head())\n",
        "print(y.head())\n"
      ],
      "metadata": {
        "colab": {
          "base_uri": "https://localhost:8080/"
        },
        "id": "mnxIh0lA50uY",
        "outputId": "01284791-ec1a-45e7-d4c0-9089cc96d7a3"
      },
      "execution_count": 15,
      "outputs": [
        {
          "output_type": "stream",
          "name": "stdout",
          "text": [
            "    Joint_1   Joint_2   Joint_3   Joint_4   Joint_5   Joint_6   Joint_7  \\\n",
            "0  3.121613  3.052668  3.021788  3.053974  3.059113  3.051337  3.219006   \n",
            "1  3.208593  3.010979  2.855522  2.621658  2.660382  2.724627  2.928036   \n",
            "2  3.366836  3.334915  3.325469  3.413587  3.405159  3.435247  3.418649   \n",
            "3  3.338407  3.290213  3.178516  3.096993  3.115719  3.098387  3.007955   \n",
            "4  3.272326  3.263448  3.266838  3.346335  3.332698  3.301210  3.292110   \n",
            "\n",
            "    Joint_8   Joint_9  Joint_10  ...  Joint_18  Joint_19  Joint_20  Joint_21  \\\n",
            "0  3.372958  3.472464  3.384932  ...  2.623083  3.124164  3.300521  3.627612   \n",
            "1  2.807246  2.712043  2.653307  ...  2.600510  3.209061  3.651953  4.047569   \n",
            "2  3.375723  3.412777  3.444327  ...  3.245770  3.369378  3.426765  3.602175   \n",
            "3  2.897638  2.838784  2.781741  ...  2.722301  3.340754  3.139610  3.457424   \n",
            "4  3.253292  3.168549  3.118040  ...  3.148293  3.275002  3.379051  3.544199   \n",
            "\n",
            "   Joint_22  Joint_23  Joint_24  Joint_25  Joint_26  Joint_27  \n",
            "0  3.520407  3.122140  2.963496  3.000626  2.915826  3.056647  \n",
            "1  4.194841  3.210957  3.657653  4.085339  4.187163  2.539768  \n",
            "2  3.544579  3.367118  3.402358  3.577983  3.490950  3.436727  \n",
            "3  3.386338  3.338747  3.112972  3.448987  3.352387  3.057086  \n",
            "4  3.428159  3.272547  3.351687  3.505530  3.397429  3.366072  \n",
            "\n",
            "[5 rows x 27 columns]\n",
            "0    5\n",
            "1    2\n",
            "2    1\n",
            "3    3\n",
            "4    0\n",
            "Name: Pose Number, dtype: int64\n"
          ]
        }
      ]
    },
    {
      "cell_type": "markdown",
      "source": [
        "## train data"
      ],
      "metadata": {
        "id": "vOkrHOyfXeiW"
      }
    },
    {
      "cell_type": "code",
      "source": [
        "import pandas as pd\n",
        "from sklearn.model_selection import train_test_split\n",
        "\n",
        "X_train, X_test, y_train, y_test = train_test_split(X, y, test_size=0.2, random_state=42)\n",
        "\n",
        "print(f\"Trainingsdaten: {X_train.shape}, Testdaten: {X_test.shape}\")\n",
        "\n"
      ],
      "metadata": {
        "colab": {
          "base_uri": "https://localhost:8080/"
        },
        "id": "P-lPZqLH0WWX",
        "outputId": "ccea48f5-9bad-44de-a71b-cd72c0e2bd2e"
      },
      "execution_count": 16,
      "outputs": [
        {
          "output_type": "stream",
          "name": "stdout",
          "text": [
            "Trainingsdaten: (307, 27), Testdaten: (77, 27)\n"
          ]
        }
      ]
    },
    {
      "cell_type": "markdown",
      "source": [
        "## using StandardScaler"
      ],
      "metadata": {
        "id": "N-_EQM3AXoY6"
      }
    },
    {
      "cell_type": "code",
      "source": [
        "from sklearn.preprocessing import StandardScaler\n",
        "\n",
        "scaler = StandardScaler()\n",
        "\n",
        "X_train_scaled = scaler.fit_transform(X_train)\n",
        "\n",
        "X_test_scaled = scaler.transform(X_test)\n",
        "\n",
        "print(\"Normalisierte Trainingsdaten:\")\n",
        "print(X_train_scaled[:5])\n",
        "\n",
        "print(\"Normalisierte Testdaten:\")\n",
        "print(X_test_scaled[:5])"
      ],
      "metadata": {
        "colab": {
          "base_uri": "https://localhost:8080/"
        },
        "id": "H_bilAaS55rf",
        "outputId": "91a2cf14-5b2d-4f95-e17c-991d62e60756"
      },
      "execution_count": 17,
      "outputs": [
        {
          "output_type": "stream",
          "name": "stdout",
          "text": [
            "Normalisierte Trainingsdaten:\n",
            "[[-1.31565190e-01 -3.03426575e-02  7.57151043e-02  2.79242275e-01\n",
            "   2.59560111e-01  2.42679398e-01  2.32750180e-01 -1.47526969e-03\n",
            "   1.18941528e-01 -3.71865939e-02 -9.22782263e-02  2.35566978e-01\n",
            "   1.65632581e-01 -1.84055224e-02  9.03342706e-02  2.57546026e-01\n",
            "   8.52697889e-02  2.77604551e-01 -1.32405834e-01 -1.95548057e-01\n",
            "  -4.55593448e-01 -5.38306207e-01 -1.31209302e-01  6.23519025e-03\n",
            "  -1.16612509e-03  4.69714004e-02  3.45269259e-01]\n",
            " [-2.13645676e-01 -1.54552974e-01 -4.59817592e-02  2.29885093e-01\n",
            "   1.88882349e-01  2.08421295e-01  6.11279699e-02  1.19241775e-01\n",
            "   3.06455929e-01  4.83460196e-01  3.55881006e-01  1.84072044e-01\n",
            "   1.11542592e-01 -1.56850469e-01 -1.93419712e-01 -6.37663720e-02\n",
            "   8.94715352e-02 -1.37156119e-01 -2.13423355e-01 -8.58220473e-02\n",
            "  -4.60021736e-03  2.15346412e-02 -2.12972996e-01 -2.90393495e-01\n",
            "  -3.80637142e-01 -4.79115891e-01  3.20628488e-01]\n",
            " [-2.18515886e-01 -4.71743328e-01 -6.78690945e-01 -1.03759008e+00\n",
            "  -9.82944975e-01 -8.29056154e-01 -4.65263519e-01 -3.78087741e-01\n",
            "  -5.56135248e-01 -3.48860989e-01 -5.90849916e-01 -9.84830356e-01\n",
            "  -8.44262702e-01 -4.47947114e-01 -4.91724181e-01 -7.18983280e-01\n",
            "  -5.70676712e-01 -6.87323062e-01 -2.06387861e-01  3.82452990e-01\n",
            "   5.90126307e-01  8.50378019e-01 -2.29463969e-01  4.91805101e-01\n",
            "   6.75479465e-01  9.49762916e-01 -1.12848035e+00]\n",
            " [-9.11478824e-01 -1.09600782e+00 -1.24869771e+00 -1.49814431e+00\n",
            "  -1.46887769e+00 -1.40933800e+00 -1.06235029e+00 -8.03592771e-01\n",
            "  -7.48345110e-01 -7.34579531e-01 -9.81368280e-01 -1.45952319e+00\n",
            "  -1.36040748e+00 -7.86900924e-01 -3.61961044e-01 -4.80043744e-01\n",
            "  -5.63758410e-01 -4.38791288e-01 -9.03237501e-01 -2.76992203e-01\n",
            "  -1.90355108e-01  1.63039412e-01 -9.19987036e-01 -1.98111237e-01\n",
            "  -8.07839312e-02  2.47206513e-01 -1.54204744e+00]\n",
            " [ 6.26507558e-01  7.47771274e-01  8.53098101e-01  1.04156502e+00\n",
            "   1.01155923e+00  9.34106750e-01  8.14026921e-01  8.15821301e-01\n",
            "   7.87050566e-01  8.06421017e-01  8.09380401e-01  1.01788768e+00\n",
            "   9.57608564e-01  9.64422462e-01  8.99813925e-01  1.05338780e+00\n",
            "   8.67675636e-01  1.00370072e+00  6.26042480e-01  5.51677106e-01\n",
            "   4.32505010e-01  2.09521417e-01  6.27368841e-01  6.00614793e-01\n",
            "   5.33033276e-01  3.10771571e-01  1.09386047e+00]]\n",
            "Normalisierte Testdaten:\n",
            "[[-3.21342232e-01 -2.11205105e-01 -8.07938250e-02  4.09215355e-03\n",
            "  -1.78107437e-04  7.88403156e-03 -2.18731947e-01 -5.55943506e-01\n",
            "  -5.73709871e-01 -7.38778141e-01 -7.30994664e-01 -1.89480416e-02\n",
            "  -8.07458239e-02 -4.84267922e-01 -5.13954933e-01 -5.45706929e-01\n",
            "  -5.88473824e-01 -4.55144796e-01 -3.22585060e-01 -5.01244788e-01\n",
            "  -6.67092510e-01 -7.73395165e-01 -3.20526469e-01 -3.93647113e-01\n",
            "  -4.37240411e-01 -4.59949335e-01  2.95218867e-02]\n",
            " [-1.21671694e+00 -1.19273881e+00 -1.11828329e+00 -9.12895306e-01\n",
            "  -9.32038981e-01 -9.02354339e-01 -6.60197577e-01 -9.01942298e-01\n",
            "  -9.66083663e-01 -1.12362375e+00 -1.09273317e+00 -9.66143871e-01\n",
            "  -1.08917786e+00 -1.30801925e+00 -1.40199812e+00 -1.36434305e+00\n",
            "  -1.32210753e+00 -1.30981418e+00 -1.21607067e+00 -1.20844639e+00\n",
            "  -1.23831753e+00 -1.22021040e+00 -1.21678039e+00 -1.05058204e+00\n",
            "  -9.50340846e-01 -8.52511378e-01 -8.35375959e-01]\n",
            " [ 2.50333783e+00  2.63177202e+00  2.74775027e+00  2.79572356e+00\n",
            "   2.77981239e+00  2.72709968e+00  2.67700215e+00  2.63061006e+00\n",
            "   2.59363693e+00  2.74336836e+00  2.55282861e+00  2.81384095e+00\n",
            "   2.91516518e+00  3.00605479e+00  2.91858457e+00  3.06589981e+00\n",
            "   3.10377241e+00  2.94425414e+00  2.50286922e+00  2.26715869e+00\n",
            "   2.08010922e+00  1.83311208e+00  2.50455964e+00  2.37923610e+00\n",
            "   2.17900169e+00  1.92563117e+00  2.78322527e+00]\n",
            " [-1.02740352e+00 -9.61023092e-01 -8.74451227e-01 -6.42101118e-01\n",
            "  -6.83998116e-01 -6.58801115e-01 -8.87171543e-01 -9.16663618e-01\n",
            "  -7.77093046e-01 -8.52621788e-01 -6.69844859e-01 -6.79159642e-01\n",
            "  -6.88219187e-01 -8.74169109e-01 -9.29791727e-01 -8.05626848e-01\n",
            "  -7.81120638e-01 -8.63603466e-01 -1.02702243e+00 -1.05266888e+00\n",
            "  -9.06894658e-01 -7.97801946e-01 -1.02661747e+00 -1.12077874e+00\n",
            "  -1.08263391e+00 -1.09998078e+00 -5.59472384e-01]\n",
            " [ 1.27473565e+00  1.41290447e+00  1.55704835e+00  1.70651186e+00\n",
            "   1.70782901e+00  1.79706273e+00  1.69714256e+00  1.37975562e+00\n",
            "   1.19696180e+00  1.34264652e+00  1.15144035e+00  1.66803950e+00\n",
            "   1.55924422e+00  1.11956494e+00  1.29246481e+00  1.40734737e+00\n",
            "   1.41586822e+00  1.34756121e+00  1.27359728e+00  1.20242599e+00\n",
            "   1.05684301e+00  9.41165515e-01  1.27513860e+00  1.32686904e+00\n",
            "   1.15189542e+00  9.67325978e-01  1.74323181e+00]]\n"
          ]
        }
      ]
    },
    {
      "cell_type": "markdown",
      "source": [
        "# Modell building"
      ],
      "metadata": {
        "id": "RSrSTdQaXsN1"
      }
    },
    {
      "cell_type": "markdown",
      "source": [
        "## KNN"
      ],
      "metadata": {
        "id": "1wVHd0M7Xvec"
      }
    },
    {
      "cell_type": "code",
      "source": [
        "from sklearn.neighbors import KNeighborsClassifier\n",
        "from sklearn.metrics import accuracy_score\n",
        "\n",
        "\n",
        "knn = KNeighborsClassifier(n_neighbors=3)\n",
        "\n",
        "knn.fit(X_train_scaled, y_train)\n",
        "\n"
      ],
      "metadata": {
        "colab": {
          "base_uri": "https://localhost:8080/",
          "height": 80
        },
        "id": "nkbyYJu36BB2",
        "outputId": "ea71dbd3-1776-4fd0-ffe6-042ea2b67a2e"
      },
      "execution_count": 18,
      "outputs": [
        {
          "output_type": "execute_result",
          "data": {
            "text/plain": [
              "KNeighborsClassifier(n_neighbors=3)"
            ],
            "text/html": [
              "<style>#sk-container-id-1 {\n",
              "  /* Definition of color scheme common for light and dark mode */\n",
              "  --sklearn-color-text: #000;\n",
              "  --sklearn-color-text-muted: #666;\n",
              "  --sklearn-color-line: gray;\n",
              "  /* Definition of color scheme for unfitted estimators */\n",
              "  --sklearn-color-unfitted-level-0: #fff5e6;\n",
              "  --sklearn-color-unfitted-level-1: #f6e4d2;\n",
              "  --sklearn-color-unfitted-level-2: #ffe0b3;\n",
              "  --sklearn-color-unfitted-level-3: chocolate;\n",
              "  /* Definition of color scheme for fitted estimators */\n",
              "  --sklearn-color-fitted-level-0: #f0f8ff;\n",
              "  --sklearn-color-fitted-level-1: #d4ebff;\n",
              "  --sklearn-color-fitted-level-2: #b3dbfd;\n",
              "  --sklearn-color-fitted-level-3: cornflowerblue;\n",
              "\n",
              "  /* Specific color for light theme */\n",
              "  --sklearn-color-text-on-default-background: var(--sg-text-color, var(--theme-code-foreground, var(--jp-content-font-color1, black)));\n",
              "  --sklearn-color-background: var(--sg-background-color, var(--theme-background, var(--jp-layout-color0, white)));\n",
              "  --sklearn-color-border-box: var(--sg-text-color, var(--theme-code-foreground, var(--jp-content-font-color1, black)));\n",
              "  --sklearn-color-icon: #696969;\n",
              "\n",
              "  @media (prefers-color-scheme: dark) {\n",
              "    /* Redefinition of color scheme for dark theme */\n",
              "    --sklearn-color-text-on-default-background: var(--sg-text-color, var(--theme-code-foreground, var(--jp-content-font-color1, white)));\n",
              "    --sklearn-color-background: var(--sg-background-color, var(--theme-background, var(--jp-layout-color0, #111)));\n",
              "    --sklearn-color-border-box: var(--sg-text-color, var(--theme-code-foreground, var(--jp-content-font-color1, white)));\n",
              "    --sklearn-color-icon: #878787;\n",
              "  }\n",
              "}\n",
              "\n",
              "#sk-container-id-1 {\n",
              "  color: var(--sklearn-color-text);\n",
              "}\n",
              "\n",
              "#sk-container-id-1 pre {\n",
              "  padding: 0;\n",
              "}\n",
              "\n",
              "#sk-container-id-1 input.sk-hidden--visually {\n",
              "  border: 0;\n",
              "  clip: rect(1px 1px 1px 1px);\n",
              "  clip: rect(1px, 1px, 1px, 1px);\n",
              "  height: 1px;\n",
              "  margin: -1px;\n",
              "  overflow: hidden;\n",
              "  padding: 0;\n",
              "  position: absolute;\n",
              "  width: 1px;\n",
              "}\n",
              "\n",
              "#sk-container-id-1 div.sk-dashed-wrapped {\n",
              "  border: 1px dashed var(--sklearn-color-line);\n",
              "  margin: 0 0.4em 0.5em 0.4em;\n",
              "  box-sizing: border-box;\n",
              "  padding-bottom: 0.4em;\n",
              "  background-color: var(--sklearn-color-background);\n",
              "}\n",
              "\n",
              "#sk-container-id-1 div.sk-container {\n",
              "  /* jupyter's `normalize.less` sets `[hidden] { display: none; }`\n",
              "     but bootstrap.min.css set `[hidden] { display: none !important; }`\n",
              "     so we also need the `!important` here to be able to override the\n",
              "     default hidden behavior on the sphinx rendered scikit-learn.org.\n",
              "     See: https://github.com/scikit-learn/scikit-learn/issues/21755 */\n",
              "  display: inline-block !important;\n",
              "  position: relative;\n",
              "}\n",
              "\n",
              "#sk-container-id-1 div.sk-text-repr-fallback {\n",
              "  display: none;\n",
              "}\n",
              "\n",
              "div.sk-parallel-item,\n",
              "div.sk-serial,\n",
              "div.sk-item {\n",
              "  /* draw centered vertical line to link estimators */\n",
              "  background-image: linear-gradient(var(--sklearn-color-text-on-default-background), var(--sklearn-color-text-on-default-background));\n",
              "  background-size: 2px 100%;\n",
              "  background-repeat: no-repeat;\n",
              "  background-position: center center;\n",
              "}\n",
              "\n",
              "/* Parallel-specific style estimator block */\n",
              "\n",
              "#sk-container-id-1 div.sk-parallel-item::after {\n",
              "  content: \"\";\n",
              "  width: 100%;\n",
              "  border-bottom: 2px solid var(--sklearn-color-text-on-default-background);\n",
              "  flex-grow: 1;\n",
              "}\n",
              "\n",
              "#sk-container-id-1 div.sk-parallel {\n",
              "  display: flex;\n",
              "  align-items: stretch;\n",
              "  justify-content: center;\n",
              "  background-color: var(--sklearn-color-background);\n",
              "  position: relative;\n",
              "}\n",
              "\n",
              "#sk-container-id-1 div.sk-parallel-item {\n",
              "  display: flex;\n",
              "  flex-direction: column;\n",
              "}\n",
              "\n",
              "#sk-container-id-1 div.sk-parallel-item:first-child::after {\n",
              "  align-self: flex-end;\n",
              "  width: 50%;\n",
              "}\n",
              "\n",
              "#sk-container-id-1 div.sk-parallel-item:last-child::after {\n",
              "  align-self: flex-start;\n",
              "  width: 50%;\n",
              "}\n",
              "\n",
              "#sk-container-id-1 div.sk-parallel-item:only-child::after {\n",
              "  width: 0;\n",
              "}\n",
              "\n",
              "/* Serial-specific style estimator block */\n",
              "\n",
              "#sk-container-id-1 div.sk-serial {\n",
              "  display: flex;\n",
              "  flex-direction: column;\n",
              "  align-items: center;\n",
              "  background-color: var(--sklearn-color-background);\n",
              "  padding-right: 1em;\n",
              "  padding-left: 1em;\n",
              "}\n",
              "\n",
              "\n",
              "/* Toggleable style: style used for estimator/Pipeline/ColumnTransformer box that is\n",
              "clickable and can be expanded/collapsed.\n",
              "- Pipeline and ColumnTransformer use this feature and define the default style\n",
              "- Estimators will overwrite some part of the style using the `sk-estimator` class\n",
              "*/\n",
              "\n",
              "/* Pipeline and ColumnTransformer style (default) */\n",
              "\n",
              "#sk-container-id-1 div.sk-toggleable {\n",
              "  /* Default theme specific background. It is overwritten whether we have a\n",
              "  specific estimator or a Pipeline/ColumnTransformer */\n",
              "  background-color: var(--sklearn-color-background);\n",
              "}\n",
              "\n",
              "/* Toggleable label */\n",
              "#sk-container-id-1 label.sk-toggleable__label {\n",
              "  cursor: pointer;\n",
              "  display: flex;\n",
              "  width: 100%;\n",
              "  margin-bottom: 0;\n",
              "  padding: 0.5em;\n",
              "  box-sizing: border-box;\n",
              "  text-align: center;\n",
              "  align-items: start;\n",
              "  justify-content: space-between;\n",
              "  gap: 0.5em;\n",
              "}\n",
              "\n",
              "#sk-container-id-1 label.sk-toggleable__label .caption {\n",
              "  font-size: 0.6rem;\n",
              "  font-weight: lighter;\n",
              "  color: var(--sklearn-color-text-muted);\n",
              "}\n",
              "\n",
              "#sk-container-id-1 label.sk-toggleable__label-arrow:before {\n",
              "  /* Arrow on the left of the label */\n",
              "  content: \"▸\";\n",
              "  float: left;\n",
              "  margin-right: 0.25em;\n",
              "  color: var(--sklearn-color-icon);\n",
              "}\n",
              "\n",
              "#sk-container-id-1 label.sk-toggleable__label-arrow:hover:before {\n",
              "  color: var(--sklearn-color-text);\n",
              "}\n",
              "\n",
              "/* Toggleable content - dropdown */\n",
              "\n",
              "#sk-container-id-1 div.sk-toggleable__content {\n",
              "  max-height: 0;\n",
              "  max-width: 0;\n",
              "  overflow: hidden;\n",
              "  text-align: left;\n",
              "  /* unfitted */\n",
              "  background-color: var(--sklearn-color-unfitted-level-0);\n",
              "}\n",
              "\n",
              "#sk-container-id-1 div.sk-toggleable__content.fitted {\n",
              "  /* fitted */\n",
              "  background-color: var(--sklearn-color-fitted-level-0);\n",
              "}\n",
              "\n",
              "#sk-container-id-1 div.sk-toggleable__content pre {\n",
              "  margin: 0.2em;\n",
              "  border-radius: 0.25em;\n",
              "  color: var(--sklearn-color-text);\n",
              "  /* unfitted */\n",
              "  background-color: var(--sklearn-color-unfitted-level-0);\n",
              "}\n",
              "\n",
              "#sk-container-id-1 div.sk-toggleable__content.fitted pre {\n",
              "  /* unfitted */\n",
              "  background-color: var(--sklearn-color-fitted-level-0);\n",
              "}\n",
              "\n",
              "#sk-container-id-1 input.sk-toggleable__control:checked~div.sk-toggleable__content {\n",
              "  /* Expand drop-down */\n",
              "  max-height: 200px;\n",
              "  max-width: 100%;\n",
              "  overflow: auto;\n",
              "}\n",
              "\n",
              "#sk-container-id-1 input.sk-toggleable__control:checked~label.sk-toggleable__label-arrow:before {\n",
              "  content: \"▾\";\n",
              "}\n",
              "\n",
              "/* Pipeline/ColumnTransformer-specific style */\n",
              "\n",
              "#sk-container-id-1 div.sk-label input.sk-toggleable__control:checked~label.sk-toggleable__label {\n",
              "  color: var(--sklearn-color-text);\n",
              "  background-color: var(--sklearn-color-unfitted-level-2);\n",
              "}\n",
              "\n",
              "#sk-container-id-1 div.sk-label.fitted input.sk-toggleable__control:checked~label.sk-toggleable__label {\n",
              "  background-color: var(--sklearn-color-fitted-level-2);\n",
              "}\n",
              "\n",
              "/* Estimator-specific style */\n",
              "\n",
              "/* Colorize estimator box */\n",
              "#sk-container-id-1 div.sk-estimator input.sk-toggleable__control:checked~label.sk-toggleable__label {\n",
              "  /* unfitted */\n",
              "  background-color: var(--sklearn-color-unfitted-level-2);\n",
              "}\n",
              "\n",
              "#sk-container-id-1 div.sk-estimator.fitted input.sk-toggleable__control:checked~label.sk-toggleable__label {\n",
              "  /* fitted */\n",
              "  background-color: var(--sklearn-color-fitted-level-2);\n",
              "}\n",
              "\n",
              "#sk-container-id-1 div.sk-label label.sk-toggleable__label,\n",
              "#sk-container-id-1 div.sk-label label {\n",
              "  /* The background is the default theme color */\n",
              "  color: var(--sklearn-color-text-on-default-background);\n",
              "}\n",
              "\n",
              "/* On hover, darken the color of the background */\n",
              "#sk-container-id-1 div.sk-label:hover label.sk-toggleable__label {\n",
              "  color: var(--sklearn-color-text);\n",
              "  background-color: var(--sklearn-color-unfitted-level-2);\n",
              "}\n",
              "\n",
              "/* Label box, darken color on hover, fitted */\n",
              "#sk-container-id-1 div.sk-label.fitted:hover label.sk-toggleable__label.fitted {\n",
              "  color: var(--sklearn-color-text);\n",
              "  background-color: var(--sklearn-color-fitted-level-2);\n",
              "}\n",
              "\n",
              "/* Estimator label */\n",
              "\n",
              "#sk-container-id-1 div.sk-label label {\n",
              "  font-family: monospace;\n",
              "  font-weight: bold;\n",
              "  display: inline-block;\n",
              "  line-height: 1.2em;\n",
              "}\n",
              "\n",
              "#sk-container-id-1 div.sk-label-container {\n",
              "  text-align: center;\n",
              "}\n",
              "\n",
              "/* Estimator-specific */\n",
              "#sk-container-id-1 div.sk-estimator {\n",
              "  font-family: monospace;\n",
              "  border: 1px dotted var(--sklearn-color-border-box);\n",
              "  border-radius: 0.25em;\n",
              "  box-sizing: border-box;\n",
              "  margin-bottom: 0.5em;\n",
              "  /* unfitted */\n",
              "  background-color: var(--sklearn-color-unfitted-level-0);\n",
              "}\n",
              "\n",
              "#sk-container-id-1 div.sk-estimator.fitted {\n",
              "  /* fitted */\n",
              "  background-color: var(--sklearn-color-fitted-level-0);\n",
              "}\n",
              "\n",
              "/* on hover */\n",
              "#sk-container-id-1 div.sk-estimator:hover {\n",
              "  /* unfitted */\n",
              "  background-color: var(--sklearn-color-unfitted-level-2);\n",
              "}\n",
              "\n",
              "#sk-container-id-1 div.sk-estimator.fitted:hover {\n",
              "  /* fitted */\n",
              "  background-color: var(--sklearn-color-fitted-level-2);\n",
              "}\n",
              "\n",
              "/* Specification for estimator info (e.g. \"i\" and \"?\") */\n",
              "\n",
              "/* Common style for \"i\" and \"?\" */\n",
              "\n",
              ".sk-estimator-doc-link,\n",
              "a:link.sk-estimator-doc-link,\n",
              "a:visited.sk-estimator-doc-link {\n",
              "  float: right;\n",
              "  font-size: smaller;\n",
              "  line-height: 1em;\n",
              "  font-family: monospace;\n",
              "  background-color: var(--sklearn-color-background);\n",
              "  border-radius: 1em;\n",
              "  height: 1em;\n",
              "  width: 1em;\n",
              "  text-decoration: none !important;\n",
              "  margin-left: 0.5em;\n",
              "  text-align: center;\n",
              "  /* unfitted */\n",
              "  border: var(--sklearn-color-unfitted-level-1) 1pt solid;\n",
              "  color: var(--sklearn-color-unfitted-level-1);\n",
              "}\n",
              "\n",
              ".sk-estimator-doc-link.fitted,\n",
              "a:link.sk-estimator-doc-link.fitted,\n",
              "a:visited.sk-estimator-doc-link.fitted {\n",
              "  /* fitted */\n",
              "  border: var(--sklearn-color-fitted-level-1) 1pt solid;\n",
              "  color: var(--sklearn-color-fitted-level-1);\n",
              "}\n",
              "\n",
              "/* On hover */\n",
              "div.sk-estimator:hover .sk-estimator-doc-link:hover,\n",
              ".sk-estimator-doc-link:hover,\n",
              "div.sk-label-container:hover .sk-estimator-doc-link:hover,\n",
              ".sk-estimator-doc-link:hover {\n",
              "  /* unfitted */\n",
              "  background-color: var(--sklearn-color-unfitted-level-3);\n",
              "  color: var(--sklearn-color-background);\n",
              "  text-decoration: none;\n",
              "}\n",
              "\n",
              "div.sk-estimator.fitted:hover .sk-estimator-doc-link.fitted:hover,\n",
              ".sk-estimator-doc-link.fitted:hover,\n",
              "div.sk-label-container:hover .sk-estimator-doc-link.fitted:hover,\n",
              ".sk-estimator-doc-link.fitted:hover {\n",
              "  /* fitted */\n",
              "  background-color: var(--sklearn-color-fitted-level-3);\n",
              "  color: var(--sklearn-color-background);\n",
              "  text-decoration: none;\n",
              "}\n",
              "\n",
              "/* Span, style for the box shown on hovering the info icon */\n",
              ".sk-estimator-doc-link span {\n",
              "  display: none;\n",
              "  z-index: 9999;\n",
              "  position: relative;\n",
              "  font-weight: normal;\n",
              "  right: .2ex;\n",
              "  padding: .5ex;\n",
              "  margin: .5ex;\n",
              "  width: min-content;\n",
              "  min-width: 20ex;\n",
              "  max-width: 50ex;\n",
              "  color: var(--sklearn-color-text);\n",
              "  box-shadow: 2pt 2pt 4pt #999;\n",
              "  /* unfitted */\n",
              "  background: var(--sklearn-color-unfitted-level-0);\n",
              "  border: .5pt solid var(--sklearn-color-unfitted-level-3);\n",
              "}\n",
              "\n",
              ".sk-estimator-doc-link.fitted span {\n",
              "  /* fitted */\n",
              "  background: var(--sklearn-color-fitted-level-0);\n",
              "  border: var(--sklearn-color-fitted-level-3);\n",
              "}\n",
              "\n",
              ".sk-estimator-doc-link:hover span {\n",
              "  display: block;\n",
              "}\n",
              "\n",
              "/* \"?\"-specific style due to the `<a>` HTML tag */\n",
              "\n",
              "#sk-container-id-1 a.estimator_doc_link {\n",
              "  float: right;\n",
              "  font-size: 1rem;\n",
              "  line-height: 1em;\n",
              "  font-family: monospace;\n",
              "  background-color: var(--sklearn-color-background);\n",
              "  border-radius: 1rem;\n",
              "  height: 1rem;\n",
              "  width: 1rem;\n",
              "  text-decoration: none;\n",
              "  /* unfitted */\n",
              "  color: var(--sklearn-color-unfitted-level-1);\n",
              "  border: var(--sklearn-color-unfitted-level-1) 1pt solid;\n",
              "}\n",
              "\n",
              "#sk-container-id-1 a.estimator_doc_link.fitted {\n",
              "  /* fitted */\n",
              "  border: var(--sklearn-color-fitted-level-1) 1pt solid;\n",
              "  color: var(--sklearn-color-fitted-level-1);\n",
              "}\n",
              "\n",
              "/* On hover */\n",
              "#sk-container-id-1 a.estimator_doc_link:hover {\n",
              "  /* unfitted */\n",
              "  background-color: var(--sklearn-color-unfitted-level-3);\n",
              "  color: var(--sklearn-color-background);\n",
              "  text-decoration: none;\n",
              "}\n",
              "\n",
              "#sk-container-id-1 a.estimator_doc_link.fitted:hover {\n",
              "  /* fitted */\n",
              "  background-color: var(--sklearn-color-fitted-level-3);\n",
              "}\n",
              "</style><div id=\"sk-container-id-1\" class=\"sk-top-container\"><div class=\"sk-text-repr-fallback\"><pre>KNeighborsClassifier(n_neighbors=3)</pre><b>In a Jupyter environment, please rerun this cell to show the HTML representation or trust the notebook. <br />On GitHub, the HTML representation is unable to render, please try loading this page with nbviewer.org.</b></div><div class=\"sk-container\" hidden><div class=\"sk-item\"><div class=\"sk-estimator fitted sk-toggleable\"><input class=\"sk-toggleable__control sk-hidden--visually\" id=\"sk-estimator-id-1\" type=\"checkbox\" checked><label for=\"sk-estimator-id-1\" class=\"sk-toggleable__label fitted sk-toggleable__label-arrow\"><div><div>KNeighborsClassifier</div></div><div><a class=\"sk-estimator-doc-link fitted\" rel=\"noreferrer\" target=\"_blank\" href=\"https://scikit-learn.org/1.6/modules/generated/sklearn.neighbors.KNeighborsClassifier.html\">?<span>Documentation for KNeighborsClassifier</span></a><span class=\"sk-estimator-doc-link fitted\">i<span>Fitted</span></span></div></label><div class=\"sk-toggleable__content fitted\"><pre>KNeighborsClassifier(n_neighbors=3)</pre></div> </div></div></div></div>"
            ]
          },
          "metadata": {},
          "execution_count": 18
        }
      ]
    },
    {
      "cell_type": "markdown",
      "source": [
        "der Hyperparameter-Optimierung mit GridSearchCV und 5-facher Cross-Validation"
      ],
      "metadata": {
        "id": "abRvBXZcbJBw"
      }
    },
    {
      "cell_type": "code",
      "source": [
        "from sklearn.model_selection import cross_val_score\n",
        "# Cross-Validation durchführen (5-Fold Cross-Validation)\n",
        "cv_scores = cross_val_score(knn, X_train_scaled, y_train, cv=5)  # cv=5 für 5-Fold\n",
        "\n",
        "print(f\"Cross-Validation Scores: {cv_scores}\")\n",
        "print(f\"Durchschnittliche Cross-Validation Genauigkeit: {cv_scores.mean():.4f}\")"
      ],
      "metadata": {
        "colab": {
          "base_uri": "https://localhost:8080/"
        },
        "id": "eDV4dFF4Hkao",
        "outputId": "67808d22-15a6-4220-a24c-68de9c635b66"
      },
      "execution_count": 19,
      "outputs": [
        {
          "output_type": "stream",
          "name": "stdout",
          "text": [
            "Cross-Validation Scores: [0.64516129 0.62903226 0.62295082 0.62295082 0.6557377 ]\n",
            "Durchschnittliche Cross-Validation Genauigkeit: 0.6352\n"
          ]
        }
      ]
    },
    {
      "cell_type": "code",
      "source": [
        "\n",
        "from sklearn.model_selection import GridSearchCV\n",
        "\n",
        "# Definiere den Parameterbereich für GridSearchCV\n",
        "param_grid_knn = {'n_neighbors': [ 3, 5, 7, 9]}\n",
        "\n",
        "# GridSearchCV mit 5-facher Cross-Validation\n",
        "grid_search_knn = GridSearchCV(knn, param_grid_knn, cv=5, n_jobs=-1)\n",
        "\n",
        "grid_search_knn.fit(X_train_scaled, y_train)\n",
        "\n",
        "print(f\"Beste Parameter (k-NN): {grid_search_knn.best_params_}\")\n",
        "print(f\"Beste Genauigkeit (k-NN): {grid_search_knn.best_score_:.2f}\")"
      ],
      "metadata": {
        "colab": {
          "base_uri": "https://localhost:8080/"
        },
        "id": "D-2Ic_t8L18m",
        "outputId": "1c1b4915-41a6-4a31-f655-f6f95558f4a7"
      },
      "execution_count": 20,
      "outputs": [
        {
          "output_type": "stream",
          "name": "stdout",
          "text": [
            "Beste Parameter (k-NN): {'n_neighbors': 3}\n",
            "Beste Genauigkeit (k-NN): 0.64\n"
          ]
        }
      ]
    },
    {
      "cell_type": "markdown",
      "source": [
        "### Evaluate Performance"
      ],
      "metadata": {
        "id": "Cxbc-DwFYBho"
      }
    },
    {
      "cell_type": "code",
      "source": [
        "from sklearn.metrics import classification_report\n",
        "\n",
        "y_pred_knn = grid_search_knn.predict(X_test_scaled)\n",
        "\n",
        "\n",
        "print(\"Klassifikationsbericht für k-NN:\")\n",
        "print(classification_report(y_test, y_pred_knn))"
      ],
      "metadata": {
        "colab": {
          "base_uri": "https://localhost:8080/"
        },
        "id": "E1fVLr5e1yTK",
        "outputId": "b3f24bba-28b8-41a4-c222-1b579e1c75ea"
      },
      "execution_count": 21,
      "outputs": [
        {
          "output_type": "stream",
          "name": "stdout",
          "text": [
            "Klassifikationsbericht für k-NN:\n",
            "              precision    recall  f1-score   support\n",
            "\n",
            "           0       0.40      0.71      0.51        17\n",
            "           1       0.31      0.29      0.30        14\n",
            "           2       0.89      0.80      0.84        10\n",
            "           3       0.80      0.80      0.80        10\n",
            "           4       0.80      0.57      0.67        14\n",
            "           5       1.00      0.42      0.59        12\n",
            "\n",
            "    accuracy                           0.58        77\n",
            "   macro avg       0.70      0.60      0.62        77\n",
            "weighted avg       0.66      0.58      0.59        77\n",
            "\n"
          ]
        }
      ]
    },
    {
      "cell_type": "markdown",
      "source": [
        "## Random Forest"
      ],
      "metadata": {
        "id": "q_1iPJ6NzE6I"
      }
    },
    {
      "cell_type": "code",
      "source": [
        "from sklearn.ensemble import RandomForestClassifier\n",
        "\n",
        "rf = RandomForestClassifier(class_weight='balanced', random_state=42)\n",
        "\n",
        "rf.fit(X_train, y_train)\n"
      ],
      "metadata": {
        "colab": {
          "base_uri": "https://localhost:8080/",
          "height": 80
        },
        "id": "HiWOjK7ZMfOR",
        "outputId": "fa2a149f-871f-48c9-f02e-3e231d7f537b"
      },
      "execution_count": 22,
      "outputs": [
        {
          "output_type": "execute_result",
          "data": {
            "text/plain": [
              "RandomForestClassifier(class_weight='balanced', random_state=42)"
            ],
            "text/html": [
              "<style>#sk-container-id-2 {\n",
              "  /* Definition of color scheme common for light and dark mode */\n",
              "  --sklearn-color-text: #000;\n",
              "  --sklearn-color-text-muted: #666;\n",
              "  --sklearn-color-line: gray;\n",
              "  /* Definition of color scheme for unfitted estimators */\n",
              "  --sklearn-color-unfitted-level-0: #fff5e6;\n",
              "  --sklearn-color-unfitted-level-1: #f6e4d2;\n",
              "  --sklearn-color-unfitted-level-2: #ffe0b3;\n",
              "  --sklearn-color-unfitted-level-3: chocolate;\n",
              "  /* Definition of color scheme for fitted estimators */\n",
              "  --sklearn-color-fitted-level-0: #f0f8ff;\n",
              "  --sklearn-color-fitted-level-1: #d4ebff;\n",
              "  --sklearn-color-fitted-level-2: #b3dbfd;\n",
              "  --sklearn-color-fitted-level-3: cornflowerblue;\n",
              "\n",
              "  /* Specific color for light theme */\n",
              "  --sklearn-color-text-on-default-background: var(--sg-text-color, var(--theme-code-foreground, var(--jp-content-font-color1, black)));\n",
              "  --sklearn-color-background: var(--sg-background-color, var(--theme-background, var(--jp-layout-color0, white)));\n",
              "  --sklearn-color-border-box: var(--sg-text-color, var(--theme-code-foreground, var(--jp-content-font-color1, black)));\n",
              "  --sklearn-color-icon: #696969;\n",
              "\n",
              "  @media (prefers-color-scheme: dark) {\n",
              "    /* Redefinition of color scheme for dark theme */\n",
              "    --sklearn-color-text-on-default-background: var(--sg-text-color, var(--theme-code-foreground, var(--jp-content-font-color1, white)));\n",
              "    --sklearn-color-background: var(--sg-background-color, var(--theme-background, var(--jp-layout-color0, #111)));\n",
              "    --sklearn-color-border-box: var(--sg-text-color, var(--theme-code-foreground, var(--jp-content-font-color1, white)));\n",
              "    --sklearn-color-icon: #878787;\n",
              "  }\n",
              "}\n",
              "\n",
              "#sk-container-id-2 {\n",
              "  color: var(--sklearn-color-text);\n",
              "}\n",
              "\n",
              "#sk-container-id-2 pre {\n",
              "  padding: 0;\n",
              "}\n",
              "\n",
              "#sk-container-id-2 input.sk-hidden--visually {\n",
              "  border: 0;\n",
              "  clip: rect(1px 1px 1px 1px);\n",
              "  clip: rect(1px, 1px, 1px, 1px);\n",
              "  height: 1px;\n",
              "  margin: -1px;\n",
              "  overflow: hidden;\n",
              "  padding: 0;\n",
              "  position: absolute;\n",
              "  width: 1px;\n",
              "}\n",
              "\n",
              "#sk-container-id-2 div.sk-dashed-wrapped {\n",
              "  border: 1px dashed var(--sklearn-color-line);\n",
              "  margin: 0 0.4em 0.5em 0.4em;\n",
              "  box-sizing: border-box;\n",
              "  padding-bottom: 0.4em;\n",
              "  background-color: var(--sklearn-color-background);\n",
              "}\n",
              "\n",
              "#sk-container-id-2 div.sk-container {\n",
              "  /* jupyter's `normalize.less` sets `[hidden] { display: none; }`\n",
              "     but bootstrap.min.css set `[hidden] { display: none !important; }`\n",
              "     so we also need the `!important` here to be able to override the\n",
              "     default hidden behavior on the sphinx rendered scikit-learn.org.\n",
              "     See: https://github.com/scikit-learn/scikit-learn/issues/21755 */\n",
              "  display: inline-block !important;\n",
              "  position: relative;\n",
              "}\n",
              "\n",
              "#sk-container-id-2 div.sk-text-repr-fallback {\n",
              "  display: none;\n",
              "}\n",
              "\n",
              "div.sk-parallel-item,\n",
              "div.sk-serial,\n",
              "div.sk-item {\n",
              "  /* draw centered vertical line to link estimators */\n",
              "  background-image: linear-gradient(var(--sklearn-color-text-on-default-background), var(--sklearn-color-text-on-default-background));\n",
              "  background-size: 2px 100%;\n",
              "  background-repeat: no-repeat;\n",
              "  background-position: center center;\n",
              "}\n",
              "\n",
              "/* Parallel-specific style estimator block */\n",
              "\n",
              "#sk-container-id-2 div.sk-parallel-item::after {\n",
              "  content: \"\";\n",
              "  width: 100%;\n",
              "  border-bottom: 2px solid var(--sklearn-color-text-on-default-background);\n",
              "  flex-grow: 1;\n",
              "}\n",
              "\n",
              "#sk-container-id-2 div.sk-parallel {\n",
              "  display: flex;\n",
              "  align-items: stretch;\n",
              "  justify-content: center;\n",
              "  background-color: var(--sklearn-color-background);\n",
              "  position: relative;\n",
              "}\n",
              "\n",
              "#sk-container-id-2 div.sk-parallel-item {\n",
              "  display: flex;\n",
              "  flex-direction: column;\n",
              "}\n",
              "\n",
              "#sk-container-id-2 div.sk-parallel-item:first-child::after {\n",
              "  align-self: flex-end;\n",
              "  width: 50%;\n",
              "}\n",
              "\n",
              "#sk-container-id-2 div.sk-parallel-item:last-child::after {\n",
              "  align-self: flex-start;\n",
              "  width: 50%;\n",
              "}\n",
              "\n",
              "#sk-container-id-2 div.sk-parallel-item:only-child::after {\n",
              "  width: 0;\n",
              "}\n",
              "\n",
              "/* Serial-specific style estimator block */\n",
              "\n",
              "#sk-container-id-2 div.sk-serial {\n",
              "  display: flex;\n",
              "  flex-direction: column;\n",
              "  align-items: center;\n",
              "  background-color: var(--sklearn-color-background);\n",
              "  padding-right: 1em;\n",
              "  padding-left: 1em;\n",
              "}\n",
              "\n",
              "\n",
              "/* Toggleable style: style used for estimator/Pipeline/ColumnTransformer box that is\n",
              "clickable and can be expanded/collapsed.\n",
              "- Pipeline and ColumnTransformer use this feature and define the default style\n",
              "- Estimators will overwrite some part of the style using the `sk-estimator` class\n",
              "*/\n",
              "\n",
              "/* Pipeline and ColumnTransformer style (default) */\n",
              "\n",
              "#sk-container-id-2 div.sk-toggleable {\n",
              "  /* Default theme specific background. It is overwritten whether we have a\n",
              "  specific estimator or a Pipeline/ColumnTransformer */\n",
              "  background-color: var(--sklearn-color-background);\n",
              "}\n",
              "\n",
              "/* Toggleable label */\n",
              "#sk-container-id-2 label.sk-toggleable__label {\n",
              "  cursor: pointer;\n",
              "  display: flex;\n",
              "  width: 100%;\n",
              "  margin-bottom: 0;\n",
              "  padding: 0.5em;\n",
              "  box-sizing: border-box;\n",
              "  text-align: center;\n",
              "  align-items: start;\n",
              "  justify-content: space-between;\n",
              "  gap: 0.5em;\n",
              "}\n",
              "\n",
              "#sk-container-id-2 label.sk-toggleable__label .caption {\n",
              "  font-size: 0.6rem;\n",
              "  font-weight: lighter;\n",
              "  color: var(--sklearn-color-text-muted);\n",
              "}\n",
              "\n",
              "#sk-container-id-2 label.sk-toggleable__label-arrow:before {\n",
              "  /* Arrow on the left of the label */\n",
              "  content: \"▸\";\n",
              "  float: left;\n",
              "  margin-right: 0.25em;\n",
              "  color: var(--sklearn-color-icon);\n",
              "}\n",
              "\n",
              "#sk-container-id-2 label.sk-toggleable__label-arrow:hover:before {\n",
              "  color: var(--sklearn-color-text);\n",
              "}\n",
              "\n",
              "/* Toggleable content - dropdown */\n",
              "\n",
              "#sk-container-id-2 div.sk-toggleable__content {\n",
              "  max-height: 0;\n",
              "  max-width: 0;\n",
              "  overflow: hidden;\n",
              "  text-align: left;\n",
              "  /* unfitted */\n",
              "  background-color: var(--sklearn-color-unfitted-level-0);\n",
              "}\n",
              "\n",
              "#sk-container-id-2 div.sk-toggleable__content.fitted {\n",
              "  /* fitted */\n",
              "  background-color: var(--sklearn-color-fitted-level-0);\n",
              "}\n",
              "\n",
              "#sk-container-id-2 div.sk-toggleable__content pre {\n",
              "  margin: 0.2em;\n",
              "  border-radius: 0.25em;\n",
              "  color: var(--sklearn-color-text);\n",
              "  /* unfitted */\n",
              "  background-color: var(--sklearn-color-unfitted-level-0);\n",
              "}\n",
              "\n",
              "#sk-container-id-2 div.sk-toggleable__content.fitted pre {\n",
              "  /* unfitted */\n",
              "  background-color: var(--sklearn-color-fitted-level-0);\n",
              "}\n",
              "\n",
              "#sk-container-id-2 input.sk-toggleable__control:checked~div.sk-toggleable__content {\n",
              "  /* Expand drop-down */\n",
              "  max-height: 200px;\n",
              "  max-width: 100%;\n",
              "  overflow: auto;\n",
              "}\n",
              "\n",
              "#sk-container-id-2 input.sk-toggleable__control:checked~label.sk-toggleable__label-arrow:before {\n",
              "  content: \"▾\";\n",
              "}\n",
              "\n",
              "/* Pipeline/ColumnTransformer-specific style */\n",
              "\n",
              "#sk-container-id-2 div.sk-label input.sk-toggleable__control:checked~label.sk-toggleable__label {\n",
              "  color: var(--sklearn-color-text);\n",
              "  background-color: var(--sklearn-color-unfitted-level-2);\n",
              "}\n",
              "\n",
              "#sk-container-id-2 div.sk-label.fitted input.sk-toggleable__control:checked~label.sk-toggleable__label {\n",
              "  background-color: var(--sklearn-color-fitted-level-2);\n",
              "}\n",
              "\n",
              "/* Estimator-specific style */\n",
              "\n",
              "/* Colorize estimator box */\n",
              "#sk-container-id-2 div.sk-estimator input.sk-toggleable__control:checked~label.sk-toggleable__label {\n",
              "  /* unfitted */\n",
              "  background-color: var(--sklearn-color-unfitted-level-2);\n",
              "}\n",
              "\n",
              "#sk-container-id-2 div.sk-estimator.fitted input.sk-toggleable__control:checked~label.sk-toggleable__label {\n",
              "  /* fitted */\n",
              "  background-color: var(--sklearn-color-fitted-level-2);\n",
              "}\n",
              "\n",
              "#sk-container-id-2 div.sk-label label.sk-toggleable__label,\n",
              "#sk-container-id-2 div.sk-label label {\n",
              "  /* The background is the default theme color */\n",
              "  color: var(--sklearn-color-text-on-default-background);\n",
              "}\n",
              "\n",
              "/* On hover, darken the color of the background */\n",
              "#sk-container-id-2 div.sk-label:hover label.sk-toggleable__label {\n",
              "  color: var(--sklearn-color-text);\n",
              "  background-color: var(--sklearn-color-unfitted-level-2);\n",
              "}\n",
              "\n",
              "/* Label box, darken color on hover, fitted */\n",
              "#sk-container-id-2 div.sk-label.fitted:hover label.sk-toggleable__label.fitted {\n",
              "  color: var(--sklearn-color-text);\n",
              "  background-color: var(--sklearn-color-fitted-level-2);\n",
              "}\n",
              "\n",
              "/* Estimator label */\n",
              "\n",
              "#sk-container-id-2 div.sk-label label {\n",
              "  font-family: monospace;\n",
              "  font-weight: bold;\n",
              "  display: inline-block;\n",
              "  line-height: 1.2em;\n",
              "}\n",
              "\n",
              "#sk-container-id-2 div.sk-label-container {\n",
              "  text-align: center;\n",
              "}\n",
              "\n",
              "/* Estimator-specific */\n",
              "#sk-container-id-2 div.sk-estimator {\n",
              "  font-family: monospace;\n",
              "  border: 1px dotted var(--sklearn-color-border-box);\n",
              "  border-radius: 0.25em;\n",
              "  box-sizing: border-box;\n",
              "  margin-bottom: 0.5em;\n",
              "  /* unfitted */\n",
              "  background-color: var(--sklearn-color-unfitted-level-0);\n",
              "}\n",
              "\n",
              "#sk-container-id-2 div.sk-estimator.fitted {\n",
              "  /* fitted */\n",
              "  background-color: var(--sklearn-color-fitted-level-0);\n",
              "}\n",
              "\n",
              "/* on hover */\n",
              "#sk-container-id-2 div.sk-estimator:hover {\n",
              "  /* unfitted */\n",
              "  background-color: var(--sklearn-color-unfitted-level-2);\n",
              "}\n",
              "\n",
              "#sk-container-id-2 div.sk-estimator.fitted:hover {\n",
              "  /* fitted */\n",
              "  background-color: var(--sklearn-color-fitted-level-2);\n",
              "}\n",
              "\n",
              "/* Specification for estimator info (e.g. \"i\" and \"?\") */\n",
              "\n",
              "/* Common style for \"i\" and \"?\" */\n",
              "\n",
              ".sk-estimator-doc-link,\n",
              "a:link.sk-estimator-doc-link,\n",
              "a:visited.sk-estimator-doc-link {\n",
              "  float: right;\n",
              "  font-size: smaller;\n",
              "  line-height: 1em;\n",
              "  font-family: monospace;\n",
              "  background-color: var(--sklearn-color-background);\n",
              "  border-radius: 1em;\n",
              "  height: 1em;\n",
              "  width: 1em;\n",
              "  text-decoration: none !important;\n",
              "  margin-left: 0.5em;\n",
              "  text-align: center;\n",
              "  /* unfitted */\n",
              "  border: var(--sklearn-color-unfitted-level-1) 1pt solid;\n",
              "  color: var(--sklearn-color-unfitted-level-1);\n",
              "}\n",
              "\n",
              ".sk-estimator-doc-link.fitted,\n",
              "a:link.sk-estimator-doc-link.fitted,\n",
              "a:visited.sk-estimator-doc-link.fitted {\n",
              "  /* fitted */\n",
              "  border: var(--sklearn-color-fitted-level-1) 1pt solid;\n",
              "  color: var(--sklearn-color-fitted-level-1);\n",
              "}\n",
              "\n",
              "/* On hover */\n",
              "div.sk-estimator:hover .sk-estimator-doc-link:hover,\n",
              ".sk-estimator-doc-link:hover,\n",
              "div.sk-label-container:hover .sk-estimator-doc-link:hover,\n",
              ".sk-estimator-doc-link:hover {\n",
              "  /* unfitted */\n",
              "  background-color: var(--sklearn-color-unfitted-level-3);\n",
              "  color: var(--sklearn-color-background);\n",
              "  text-decoration: none;\n",
              "}\n",
              "\n",
              "div.sk-estimator.fitted:hover .sk-estimator-doc-link.fitted:hover,\n",
              ".sk-estimator-doc-link.fitted:hover,\n",
              "div.sk-label-container:hover .sk-estimator-doc-link.fitted:hover,\n",
              ".sk-estimator-doc-link.fitted:hover {\n",
              "  /* fitted */\n",
              "  background-color: var(--sklearn-color-fitted-level-3);\n",
              "  color: var(--sklearn-color-background);\n",
              "  text-decoration: none;\n",
              "}\n",
              "\n",
              "/* Span, style for the box shown on hovering the info icon */\n",
              ".sk-estimator-doc-link span {\n",
              "  display: none;\n",
              "  z-index: 9999;\n",
              "  position: relative;\n",
              "  font-weight: normal;\n",
              "  right: .2ex;\n",
              "  padding: .5ex;\n",
              "  margin: .5ex;\n",
              "  width: min-content;\n",
              "  min-width: 20ex;\n",
              "  max-width: 50ex;\n",
              "  color: var(--sklearn-color-text);\n",
              "  box-shadow: 2pt 2pt 4pt #999;\n",
              "  /* unfitted */\n",
              "  background: var(--sklearn-color-unfitted-level-0);\n",
              "  border: .5pt solid var(--sklearn-color-unfitted-level-3);\n",
              "}\n",
              "\n",
              ".sk-estimator-doc-link.fitted span {\n",
              "  /* fitted */\n",
              "  background: var(--sklearn-color-fitted-level-0);\n",
              "  border: var(--sklearn-color-fitted-level-3);\n",
              "}\n",
              "\n",
              ".sk-estimator-doc-link:hover span {\n",
              "  display: block;\n",
              "}\n",
              "\n",
              "/* \"?\"-specific style due to the `<a>` HTML tag */\n",
              "\n",
              "#sk-container-id-2 a.estimator_doc_link {\n",
              "  float: right;\n",
              "  font-size: 1rem;\n",
              "  line-height: 1em;\n",
              "  font-family: monospace;\n",
              "  background-color: var(--sklearn-color-background);\n",
              "  border-radius: 1rem;\n",
              "  height: 1rem;\n",
              "  width: 1rem;\n",
              "  text-decoration: none;\n",
              "  /* unfitted */\n",
              "  color: var(--sklearn-color-unfitted-level-1);\n",
              "  border: var(--sklearn-color-unfitted-level-1) 1pt solid;\n",
              "}\n",
              "\n",
              "#sk-container-id-2 a.estimator_doc_link.fitted {\n",
              "  /* fitted */\n",
              "  border: var(--sklearn-color-fitted-level-1) 1pt solid;\n",
              "  color: var(--sklearn-color-fitted-level-1);\n",
              "}\n",
              "\n",
              "/* On hover */\n",
              "#sk-container-id-2 a.estimator_doc_link:hover {\n",
              "  /* unfitted */\n",
              "  background-color: var(--sklearn-color-unfitted-level-3);\n",
              "  color: var(--sklearn-color-background);\n",
              "  text-decoration: none;\n",
              "}\n",
              "\n",
              "#sk-container-id-2 a.estimator_doc_link.fitted:hover {\n",
              "  /* fitted */\n",
              "  background-color: var(--sklearn-color-fitted-level-3);\n",
              "}\n",
              "</style><div id=\"sk-container-id-2\" class=\"sk-top-container\"><div class=\"sk-text-repr-fallback\"><pre>RandomForestClassifier(class_weight=&#x27;balanced&#x27;, random_state=42)</pre><b>In a Jupyter environment, please rerun this cell to show the HTML representation or trust the notebook. <br />On GitHub, the HTML representation is unable to render, please try loading this page with nbviewer.org.</b></div><div class=\"sk-container\" hidden><div class=\"sk-item\"><div class=\"sk-estimator fitted sk-toggleable\"><input class=\"sk-toggleable__control sk-hidden--visually\" id=\"sk-estimator-id-2\" type=\"checkbox\" checked><label for=\"sk-estimator-id-2\" class=\"sk-toggleable__label fitted sk-toggleable__label-arrow\"><div><div>RandomForestClassifier</div></div><div><a class=\"sk-estimator-doc-link fitted\" rel=\"noreferrer\" target=\"_blank\" href=\"https://scikit-learn.org/1.6/modules/generated/sklearn.ensemble.RandomForestClassifier.html\">?<span>Documentation for RandomForestClassifier</span></a><span class=\"sk-estimator-doc-link fitted\">i<span>Fitted</span></span></div></label><div class=\"sk-toggleable__content fitted\"><pre>RandomForestClassifier(class_weight=&#x27;balanced&#x27;, random_state=42)</pre></div> </div></div></div></div>"
            ]
          },
          "metadata": {},
          "execution_count": 22
        }
      ]
    },
    {
      "cell_type": "markdown",
      "source": [
        "der Hyperparameter-Optimierung mit GridSearchCV und 5-facher Cross-Validation"
      ],
      "metadata": {
        "id": "OWd_lN5KZ0lp"
      }
    },
    {
      "cell_type": "code",
      "source": [
        "# Definiere den Parameterbereich für GridSearchCV\n",
        "param_grid_rf = {\n",
        "    'n_estimators': [50, 100, 200],\n",
        "    'max_depth': [10, 20, 30],\n",
        "    'min_samples_split': [10, 20],\n",
        "    'min_samples_leaf': [2, 4]\n",
        "}\n",
        "\n",
        "\n",
        "grid_search_rf = GridSearchCV(rf, param_grid_rf, cv=10, n_jobs=-1)\n",
        "\n",
        "\n",
        "grid_search_rf.fit(X_train_scaled, y_train)\n",
        "\n",
        "\n",
        "print(f\"Beste Parameter (Random Forest): {grid_search_rf.best_params_}\")\n",
        "print(f\"Beste Genauigkeit (Random Forest): {grid_search_rf.best_score_:.2f}\")\n",
        "\n"
      ],
      "metadata": {
        "colab": {
          "base_uri": "https://localhost:8080/"
        },
        "id": "9ws2rel9M06B",
        "outputId": "6e0c679b-3abf-45c5-b55c-be511094db46"
      },
      "execution_count": 23,
      "outputs": [
        {
          "output_type": "stream",
          "name": "stdout",
          "text": [
            "Beste Parameter (Random Forest): {'max_depth': 10, 'min_samples_leaf': 2, 'min_samples_split': 10, 'n_estimators': 100}\n",
            "Beste Genauigkeit (Random Forest): 0.67\n"
          ]
        }
      ]
    },
    {
      "cell_type": "markdown",
      "source": [
        "### Evalute Performance"
      ],
      "metadata": {
        "id": "46wpg1dRYRk2"
      }
    },
    {
      "cell_type": "code",
      "source": [
        "\n",
        "y_pred_rf = grid_search_rf.predict(X_test_scaled)\n",
        "\n",
        "print(\"Klassifikationsbericht für Random Forest:\")\n",
        "print(classification_report(y_test, y_pred_rf))"
      ],
      "metadata": {
        "colab": {
          "base_uri": "https://localhost:8080/"
        },
        "id": "kiup5Vr6Moxt",
        "outputId": "c22bd38f-00fb-40b8-dc3f-e9d8c4ce16c4"
      },
      "execution_count": 27,
      "outputs": [
        {
          "output_type": "stream",
          "name": "stdout",
          "text": [
            "Klassifikationsbericht für Random Forest:\n",
            "              precision    recall  f1-score   support\n",
            "\n",
            "           0       0.71      0.71      0.71        17\n",
            "           1       0.23      0.21      0.22        14\n",
            "           2       0.89      0.80      0.84        10\n",
            "           3       0.78      0.70      0.74        10\n",
            "           4       0.67      0.86      0.75        14\n",
            "           5       0.55      0.50      0.52        12\n",
            "\n",
            "    accuracy                           0.62        77\n",
            "   macro avg       0.64      0.63      0.63        77\n",
            "weighted avg       0.62      0.62      0.62        77\n",
            "\n"
          ]
        }
      ]
    },
    {
      "cell_type": "markdown",
      "source": [
        "## Gradient Boosting Modell"
      ],
      "metadata": {
        "id": "6sJslEovY0x2"
      }
    },
    {
      "cell_type": "code",
      "source": [
        "from sklearn.ensemble import GradientBoostingClassifier\n",
        "\n",
        "\n",
        "gb = GradientBoostingClassifier()\n",
        "\n",
        "\n",
        "gb.fit(X_train_scaled, y_train)\n",
        "\n",
        "\n",
        "y_pred_gb = gb.predict(X_test_scaled)\n",
        "\n",
        "# Klassifikationsbericht\n",
        "print(\"Klassifikationsbericht für Gradient Boosting:\")\n",
        "print(classification_report(y_test, y_pred_gb))\n"
      ],
      "metadata": {
        "colab": {
          "base_uri": "https://localhost:8080/"
        },
        "id": "VVfIcFcNRmLZ",
        "outputId": "30039943-7de3-4b75-f724-a82d5b406c9e"
      },
      "execution_count": 26,
      "outputs": [
        {
          "output_type": "stream",
          "name": "stdout",
          "text": [
            "Klassifikationsbericht für Gradient Boosting:\n",
            "              precision    recall  f1-score   support\n",
            "\n",
            "           0       0.61      0.65      0.63        17\n",
            "           1       0.45      0.36      0.40        14\n",
            "           2       0.89      0.80      0.84        10\n",
            "           3       0.75      0.90      0.82        10\n",
            "           4       0.69      0.79      0.73        14\n",
            "           5       0.55      0.50      0.52        12\n",
            "\n",
            "    accuracy                           0.65        77\n",
            "   macro avg       0.66      0.66      0.66        77\n",
            "weighted avg       0.64      0.65      0.64        77\n",
            "\n"
          ]
        }
      ]
    },
    {
      "cell_type": "markdown",
      "source": [
        "# Visualisation"
      ],
      "metadata": {
        "id": "XT5kG-j1ZGlP"
      }
    },
    {
      "cell_type": "code",
      "source": [
        "from sklearn.metrics import confusion_matrix\n",
        "import seaborn as sns\n",
        "import matplotlib.pyplot as plt\n",
        "\n",
        "# Vorhersagen für k-NN\n",
        "y_pred_knn = grid_search_knn.predict(X_test_scaled)\n",
        "cm_knn = confusion_matrix(y_test, y_pred_knn)\n",
        "\n",
        "# Vorhersagen für Random Forest\n",
        "y_pred_rf = grid_search_rf.predict(X_test_scaled)\n",
        "cm_rf = confusion_matrix(y_test, y_pred_rf)\n",
        "\n",
        "y_pred_gb = gb.predict(X_test_scaled)\n",
        "cm_gb = confusion_matrix(y_test, y_pred_gb)\n",
        "\n"
      ],
      "metadata": {
        "id": "o6A0qBkhTbT-"
      },
      "execution_count": 28,
      "outputs": []
    },
    {
      "cell_type": "code",
      "source": [
        "fig, axes = plt.subplots(1, 3, figsize=(18, 6))\n",
        "\n",
        "# Visualisierung der Verwirrungsmatrix für k-NN\n",
        "sns.heatmap(cm_knn, annot=True, fmt='d', cmap='Blues', xticklabels=[0, 1, 2, 3, 4, 5], yticklabels=[0, 1, 2, 3, 4, 5], ax=axes[0])\n",
        "axes[0].set_title('Verwirrungsmatrix für k-NN')\n",
        "axes[0].set_xlabel('Vorhergesagte Klassen')\n",
        "axes[0].set_ylabel('Wahre Klassen')\n",
        "\n",
        "# Visualisierung der Verwirrungsmatrix für Random Forest\n",
        "sns.heatmap(cm_rf, annot=True, fmt='d', cmap='Blues', xticklabels=[0, 1, 2, 3, 4, 5], yticklabels=[0, 1, 2, 3, 4, 5], ax=axes[1])\n",
        "axes[1].set_title('Verwirrungsmatrix für Random Forest')\n",
        "axes[1].set_xlabel('Vorhergesagte Klassen')\n",
        "axes[1].set_ylabel('Wahre Klassen')\n",
        "\n",
        "# Visualisierung der Verwirrungsmatrix für Gradient Boosting\n",
        "sns.heatmap(cm_gb, annot=True, fmt='d', cmap='Blues', xticklabels=[0, 1, 2, 3, 4, 5], yticklabels=[0, 1, 2, 3, 4, 5], ax=axes[2])\n",
        "axes[2].set_title('Verwirrungsmatrix für Gradient Boosting')\n",
        "axes[2].set_xlabel('Vorhergesagte Klassen')\n",
        "axes[2].set_ylabel('Wahre Klassen')\n",
        "\n",
        "plt.tight_layout()\n",
        "plt.show()\n"
      ],
      "metadata": {
        "colab": {
          "base_uri": "https://localhost:8080/",
          "height": 447
        },
        "id": "gbNicNfoTeCq",
        "outputId": "a828702d-43d9-445b-d7db-a4f7e8ecd762"
      },
      "execution_count": 29,
      "outputs": [
        {
          "output_type": "display_data",
          "data": {
            "text/plain": [
              "<Figure size 1800x600 with 6 Axes>"
            ],
            "image/png": "[encoded data removed]"
          },
          "metadata": {}
        }
      ]
    },
    {
      "cell_type": "code",
      "source": [
        "from sklearn.metrics import roc_curve, auc\n",
        "from sklearn.preprocessing import label_binarize\n",
        "\n",
        "# Binarisieren der Zielvariable für Mehrklassen-ROC (damit wir die Klasse für jedes Modell separat betrachten)\n",
        "y_test_bin = label_binarize(y_test, classes=[0, 1, 2, 3, 4, 5])\n",
        "\n",
        "# Berechnen der FPR und TPR für k-NN\n",
        "fpr_knn, tpr_knn, _ = roc_curve(y_test_bin.ravel(), grid_search_knn.predict_proba(X_test_scaled).ravel())\n",
        "roc_auc_knn = auc(fpr_knn, tpr_knn)\n",
        "\n",
        "# Berechnen der FPR und TPR für Random Forest\n",
        "fpr_rf, tpr_rf, _ = roc_curve(y_test_bin.ravel(), grid_search_rf.predict_proba(X_test_scaled).ravel())\n",
        "roc_auc_rf = auc(fpr_rf, tpr_rf)\n",
        "\n",
        "# Berechnen der FPR und TPR für Gradient Boosting\n",
        "fpr_gb, tpr_gb, _ = roc_curve(y_test_bin.ravel(), gb.predict_proba(X_test_scaled).ravel())\n",
        "roc_auc_gb = auc(fpr_gb, tpr_gb)\n"
      ],
      "metadata": {
        "id": "UUvdpgaSVEYu"
      },
      "execution_count": 30,
      "outputs": []
    },
    {
      "cell_type": "code",
      "source": [
        "# Visualisierung der ROC-Kurven für k-NN, Random Forest und Gradient Boosting nebeneinander\n",
        "plt.figure(figsize=(18, 6))\n",
        "\n",
        "# ROC-Kurve für k-NN\n",
        "plt.subplot(131)\n",
        "plt.plot(fpr_knn, tpr_knn, color='blue', lw=2, label=f'k-NN (AUC = {roc_auc_knn:.2f})')\n",
        "plt.plot([0, 1], [0, 1], color='gray', linestyle='--')\n",
        "plt.title('ROC-Kurve für k-NN')\n",
        "plt.xlabel('Falsche Positive Rate')\n",
        "plt.ylabel('Wahre Positive Rate')\n",
        "plt.legend(loc=\"lower right\")\n",
        "\n",
        "# ROC-Kurve für Random Forest\n",
        "plt.subplot(132)\n",
        "plt.plot(fpr_rf, tpr_rf, color='green', lw=2, label=f'Random Forest (AUC = {roc_auc_rf:.2f})')\n",
        "plt.plot([0, 1], [0, 1], color='gray', linestyle='--')\n",
        "plt.title('ROC-Kurve für Random Forest')\n",
        "plt.xlabel('Falsche Positive Rate')\n",
        "plt.ylabel('Wahre Positive Rate')\n",
        "plt.legend(loc=\"lower right\")\n",
        "\n",
        "# ROC-Kurve für Gradient Boosting\n",
        "plt.subplot(133)\n",
        "plt.plot(fpr_gb, tpr_gb, color='red', lw=2, label=f'Gradient Boosting (AUC = {roc_auc_gb:.2f})')\n",
        "plt.plot([0, 1], [0, 1], color='gray', linestyle='--')\n",
        "plt.title('ROC-Kurve für Gradient Boosting')\n",
        "plt.xlabel('Falsche Positive Rate')\n",
        "plt.ylabel('Wahre Positive Rate')\n",
        "plt.legend(loc=\"lower right\")\n",
        "\n",
        "plt.tight_layout()\n",
        "plt.show()\n"
      ],
      "metadata": {
        "colab": {
          "base_uri": "https://localhost:8080/",
          "height": 440
        },
        "id": "1RIUko9OURAL",
        "outputId": "3951b3f7-73f9-4604-b075-c79adb6f4dc2"
      },
      "execution_count": 31,
      "outputs": [
        {
          "output_type": "display_data",
          "data": {
            "text/plain": [
              "<Figure size 1800x600 with 3 Axes>"
            ],
            "image/png": "[encoded data removed]"
          },
          "metadata": {}
        }
      ]
    },
    {
      "cell_type": "markdown",
      "source": [
        "# Modell Speichern"
      ],
      "metadata": {
        "id": "2dZoI900EKzW"
      }
    },
    {
      "cell_type": "code",
      "source": [
        "\n",
        "data_cleaned.to_csv(\"bereinigter_datensatz.csv\", index=False)\n"
      ],
      "metadata": {
        "id": "8DLbjFpXWpah"
      },
      "execution_count": 32,
      "outputs": []
    },
    {
      "cell_type": "code",
      "source": [
        "import joblib\n",
        "\n",
        "joblib.dump(grid_search_knn.best_estimator_, \"knn_model.pkl\")\n"
      ],
      "metadata": {
        "colab": {
          "base_uri": "https://localhost:8080/"
        },
        "id": "lL1RIAjpWup6",
        "outputId": "eeec8107-4d1a-48f0-b558-f08b467e9d00"
      },
      "execution_count": 33,
      "outputs": [
        {
          "output_type": "execute_result",
          "data": {
            "text/plain": [
              "['knn_model.pkl']"
            ]
          },
          "metadata": {},
          "execution_count": 33
        }
      ]
    },
    {
      "cell_type": "code",
      "source": [
        "\n",
        "joblib.dump(grid_search_rf.best_estimator_, \"random_forest_model.pkl\")\n"
      ],
      "metadata": {
        "colab": {
          "base_uri": "https://localhost:8080/"
        },
        "id": "5uLNqVuiW2BO",
        "outputId": "17998534-e661-4a0a-905e-e612deb9b48a"
      },
      "execution_count": 34,
      "outputs": [
        {
          "output_type": "execute_result",
          "data": {
            "text/plain": [
              "['random_forest_model.pkl']"
            ]
          },
          "metadata": {},
          "execution_count": 34
        }
      ]
    },
    {
      "cell_type": "code",
      "source": [
        "\n",
        "joblib.dump(gb, \"gradient_boosting_model.pkl\")\n"
      ],
      "metadata": {
        "colab": {
          "base_uri": "https://localhost:8080/"
        },
        "id": "FDw0dOn_W6RY",
        "outputId": "be3ebeb8-2265-44ad-8217-d50555f99d6d"
      },
      "execution_count": 35,
      "outputs": [
        {
          "output_type": "execute_result",
          "data": {
            "text/plain": [
              "['gradient_boosting_model.pkl']"
            ]
          },
          "metadata": {},
          "execution_count": 35
        }
      ]
    }
  ]
}